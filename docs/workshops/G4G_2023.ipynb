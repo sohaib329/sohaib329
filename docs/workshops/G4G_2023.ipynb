{
  "cells": [
    {
      "cell_type": "markdown",
      "metadata": {
        "id": "view-in-github",
        "colab_type": "text"
      },
      "source": [
        "<a href=\"https://colab.research.google.com/github/sohaib329/sohaib329/blob/main/docs/workshops/G4G_2023.ipynb\" target=\"_parent\"><img src=\"https://colab.research.google.com/assets/colab-badge.svg\" alt=\"Open In Colab\"/></a>"
      ]
    },
    {
      "cell_type": "markdown",
      "id": "0",
      "metadata": {
        "id": "0"
      },
      "source": [
        "[![image](https://colab.research.google.com/assets/colab-badge.svg)](https://colab.research.google.com/github/gee-community/geemap/blob/master/docs/workshops/G4G_2023.ipynb)\n",
        "\n",
        "**Introduction to Google Earth Engine in Python**\n",
        "\n",
        "-   Notebook: <https://geemap.org/workshops/G4G_2023>\n",
        "-   Earth Engine: <https://earthengine.google.com>\n",
        "-   Geemap: <https://geemap.org>\n",
        "\n",
        "## Introduction (10 mins)\n",
        "\n",
        "This notebook is for the workshop presented at the [Geo for Good Summit 2023](https://earthoutreachonair.withgoogle.com/events/geoforgood23). Check out [this link](https://earthoutreachonair.withgoogle.com/events/geoforgood23?tab=g4gagenda&expand=module:agenda) for more information about the workshop.\n",
        "\n",
        "### Abstract\n",
        "\n",
        "This workshop provides an introduction to cloud-based geospatial analysis using the Earth Engine Python API. Attendees will learn the basics of Earth Engine data types and how to visualize, analyze, and export Earth Engine data in a Jupyter environment with geemap. In addition, attendees will learn how to develop and deploy interactive Earth Engine web apps with Python. Through practical examples and hands-on exercises, attendees will enhance their learning experience. During each hands-on session, attendees will walk through Jupyter Notebook examples on Google Colab with the instructors. At the end of each session, they will complete a hands-on exercise to apply the knowledge they have learned.\n",
        "\n",
        "### Prerequisites\n",
        "\n",
        "-   To use geemap and the Earth Engine Python API, you must [register](https://code.earthengine.google.com/register) for an Earth Engine account and follow the instructions [here](https://docs.google.com/document/d/1ZGSmrNm6_baqd8CHt33kIBWOlvkh-HLr46bODgJN1h0/edit?usp=sharing) to create a Cloud Project. Earth Engine is free for [noncommercial and research use](https://earthengine.google.com/noncommercial). To test whether you can use authenticate the Earth Engine Python API, please run [this notebook](https://colab.research.google.com/github/gee-community/geemap/blob/master/docs/notebooks/geemap_colab.ipynb) on Google Colab.\n",
        "\n",
        "-   It is recommended that attendees have a basic understanding of Python and Jupyter Notebook.\n",
        "-   Familiarity with the Earth Engine JavaScript API is not required but will be helpful.\n",
        "-   Attendees can use Google Colab to follow this workshop without installing anything on their computer.\n",
        "\n",
        "## Introduction to Earth Engine and geemap (15 mins)\n",
        "\n",
        "Earth Engine is free for [noncommercial and research use](https://earthengine.google.com/noncommercial). For more than a decade, Earth Engine has enabled planetary-scale Earth data science and analysis by nonprofit organizations, research scientists, and other impact users.\n",
        "\n",
        "With the launch of Earth Engine for [commercial use](https://earthengine.google.com/commercial), commercial customers will be charged for Earth Engine services. However, Earth Engine will remain free of charge for noncommercial use and research projects. Nonprofit organizations, academic institutions, educators, news media, Indigenous governments, and government researchers are eligible to use Earth Engine free of charge, just as they have done for over a decade.\n",
        "\n",
        "The geemap Python package is built upon the Earth Engine Python API and open-source mapping libraries. It allows Earth Engine users to interactively manipulate, analyze, and visualize geospatial big data in a Jupyter environment. Since its creation in April 2020, geemap has received over 2,900 GitHub stars and is being used by over 1,000 projects on GitHub.\n",
        "\n",
        "## Google Colab and Earth Engine Python API authentication (5 mins)\n",
        "\n",
        "[![image](https://colab.research.google.com/assets/colab-badge.svg)](https://colab.research.google.com/github/gee-community/geemap/blob/master/docs/workshops/G4G_2023.ipynb)\n",
        "\n",
        "### Change Colab dark theme\n",
        "\n",
        "Currently, ipywidgets does not work well with Colab dark theme. Some of the geemap widgets may not display properly in Colab dark theme.It is recommended that you change Colab to the light theme.\n",
        "\n",
        "![](https://i.imgur.com/EJ0GDP8.png)\n",
        "\n",
        "\n",
        "### Install geemap\n",
        "\n",
        "The geemap package is pre-installed in Google Colab and is updated to the latest minor or major release every few weeks. Some optional dependencies of geemap being used by this notebook are not pre-installed in Colab. Uncomment the following line to install geemap and some optional dependencies."
      ]
    },
    {
      "cell_type": "code",
      "execution_count": 15,
      "id": "1",
      "metadata": {
        "id": "1",
        "outputId": "9766e2a0-6b6f-4f8b-a476-73809f6f7b8d",
        "colab": {
          "base_uri": "https://localhost:8080/",
          "height": 17
        }
      },
      "outputs": [
        {
          "output_type": "display_data",
          "data": {
            "text/plain": [
              "<IPython.core.display.HTML object>"
            ],
            "text/html": [
              "\n",
              "            <style>\n",
              "                .geemap-dark {\n",
              "                    --jp-widgets-color: white;\n",
              "                    --jp-widgets-label-color: white;\n",
              "                    --jp-ui-font-color1: white;\n",
              "                    --jp-layout-color2: #454545;\n",
              "                    background-color: #383838;\n",
              "                }\n",
              "\n",
              "                .geemap-dark .jupyter-button {\n",
              "                    --jp-layout-color3: #383838;\n",
              "                }\n",
              "\n",
              "                .geemap-colab {\n",
              "                    background-color: var(--colab-primary-surface-color, white);\n",
              "                }\n",
              "\n",
              "                .geemap-colab .jupyter-button {\n",
              "                    --jp-layout-color3: var(--colab-primary-surface-color, white);\n",
              "                }\n",
              "            </style>\n",
              "            "
            ]
          },
          "metadata": {}
        }
      ],
      "source": [
        "# %pip install -U \"geemap[workshop]\""
      ]
    },
    {
      "cell_type": "markdown",
      "id": "2",
      "metadata": {
        "id": "2"
      },
      "source": [
        "Note that some geemap features do not work properly with Google Colab. If you are familiar with [Anaconda](https://www.anaconda.com/download) or [Miniconda](https://docs.anaconda.com/free/miniconda), it is recommended to create a new conda environment to install geemap and its optional dependencies on your local computer.\n",
        "\n",
        "```bash\n",
        "conda create -n gee python=3.11\n",
        "conda activate gee\n",
        "conda install -c conda-forge mamba\n",
        "mamba install -c conda-forge geemap pygis\n",
        "```"
      ]
    },
    {
      "cell_type": "markdown",
      "id": "3",
      "metadata": {
        "id": "3"
      },
      "source": [
        "### Import libraries\n",
        "\n",
        "Import the earthengine-api and geemap."
      ]
    },
    {
      "cell_type": "code",
      "execution_count": null,
      "id": "4",
      "metadata": {
        "id": "4"
      },
      "outputs": [],
      "source": [
        "import ee\n",
        "import geemap"
      ]
    },
    {
      "cell_type": "markdown",
      "id": "5",
      "metadata": {
        "id": "5"
      },
      "source": [
        "### Authenticate and initialize Earth Engine\n",
        "\n",
        "You will need to create a [Google Cloud Project](https://console.cloud.google.com/projectcreate) and enable the [Earth Engine API](https://console.cloud.google.com/apis/api/earthengine.googleapis.com) for the project. You can find detailed instructions [here](https://book.geemap.org/chapters/01_introduction.html#earth-engine-authentication)."
      ]
    },
    {
      "cell_type": "code",
      "execution_count": 16,
      "id": "6",
      "metadata": {
        "id": "6",
        "outputId": "1f252719-4d04-4408-d26a-432e4720823f",
        "colab": {
          "base_uri": "https://localhost:8080/",
          "height": 34
        }
      },
      "outputs": [
        {
          "output_type": "display_data",
          "data": {
            "text/plain": [
              "<IPython.core.display.HTML object>"
            ],
            "text/html": [
              "\n",
              "            <style>\n",
              "                .geemap-dark {\n",
              "                    --jp-widgets-color: white;\n",
              "                    --jp-widgets-label-color: white;\n",
              "                    --jp-ui-font-color1: white;\n",
              "                    --jp-layout-color2: #454545;\n",
              "                    background-color: #383838;\n",
              "                }\n",
              "\n",
              "                .geemap-dark .jupyter-button {\n",
              "                    --jp-layout-color3: #383838;\n",
              "                }\n",
              "\n",
              "                .geemap-colab {\n",
              "                    background-color: var(--colab-primary-surface-color, white);\n",
              "                }\n",
              "\n",
              "                .geemap-colab .jupyter-button {\n",
              "                    --jp-layout-color3: var(--colab-primary-surface-color, white);\n",
              "                }\n",
              "            </style>\n",
              "            "
            ]
          },
          "metadata": {}
        },
        {
          "output_type": "execute_result",
          "data": {
            "text/plain": [
              "True"
            ]
          },
          "metadata": {},
          "execution_count": 16
        }
      ],
      "source": [
        "ee.Authenticate()"
      ]
    },
    {
      "cell_type": "code",
      "execution_count": 21,
      "id": "7",
      "metadata": {
        "id": "7",
        "outputId": "64ee1448-9339-44e7-c8bf-8ee66066b0d5",
        "colab": {
          "base_uri": "https://localhost:8080/",
          "height": 391
        }
      },
      "outputs": [
        {
          "output_type": "display_data",
          "data": {
            "text/plain": [
              "<IPython.core.display.HTML object>"
            ],
            "text/html": [
              "\n",
              "            <style>\n",
              "                .geemap-dark {\n",
              "                    --jp-widgets-color: white;\n",
              "                    --jp-widgets-label-color: white;\n",
              "                    --jp-ui-font-color1: white;\n",
              "                    --jp-layout-color2: #454545;\n",
              "                    background-color: #383838;\n",
              "                }\n",
              "\n",
              "                .geemap-dark .jupyter-button {\n",
              "                    --jp-layout-color3: #383838;\n",
              "                }\n",
              "\n",
              "                .geemap-colab {\n",
              "                    background-color: var(--colab-primary-surface-color, white);\n",
              "                }\n",
              "\n",
              "                .geemap-colab .jupyter-button {\n",
              "                    --jp-layout-color3: var(--colab-primary-surface-color, white);\n",
              "                }\n",
              "            </style>\n",
              "            "
            ]
          },
          "metadata": {}
        },
        {
          "output_type": "error",
          "ename": "EEException",
          "evalue": "ee.Initialize: no project found. Call with project= or see http://goo.gle/ee-auth.",
          "traceback": [
            "\u001b[0;31m---------------------------------------------------------------------------\u001b[0m",
            "\u001b[0;31mEEException\u001b[0m                               Traceback (most recent call last)",
            "\u001b[0;32m<ipython-input-21-ebff4aeee150>\u001b[0m in \u001b[0;36m<cell line: 0>\u001b[0;34m()\u001b[0m\n\u001b[1;32m      6\u001b[0m \u001b[0;34m\u001b[0m\u001b[0m\n\u001b[1;32m      7\u001b[0m \u001b[0;31m# Initialize Earth Engine.\u001b[0m\u001b[0;34m\u001b[0m\u001b[0;34m\u001b[0m\u001b[0m\n\u001b[0;32m----> 8\u001b[0;31m \u001b[0mee\u001b[0m\u001b[0;34m.\u001b[0m\u001b[0mInitialize\u001b[0m\u001b[0;34m(\u001b[0m\u001b[0;34m)\u001b[0m\u001b[0;34m\u001b[0m\u001b[0;34m\u001b[0m\u001b[0m\n\u001b[0m\u001b[1;32m      9\u001b[0m \u001b[0;34m\u001b[0m\u001b[0m\n\u001b[1;32m     10\u001b[0m \u001b[0;31m# Instead of setProject, you might want to set the project using the following approach if needed:\u001b[0m\u001b[0;34m\u001b[0m\u001b[0;34m\u001b[0m\u001b[0m\n",
            "\u001b[0;32m/usr/local/lib/python3.11/dist-packages/ee/_utils.py\u001b[0m in \u001b[0;36mwrapper\u001b[0;34m(*args, **kwargs)\u001b[0m\n\u001b[1;32m     36\u001b[0m           \u001b[0;32mif\u001b[0m \u001b[0mnew_key\u001b[0m \u001b[0;32mnot\u001b[0m \u001b[0;32min\u001b[0m \u001b[0mkwargs\u001b[0m\u001b[0;34m:\u001b[0m\u001b[0;34m\u001b[0m\u001b[0;34m\u001b[0m\u001b[0m\n\u001b[1;32m     37\u001b[0m             \u001b[0mkwargs\u001b[0m\u001b[0;34m[\u001b[0m\u001b[0mnew_key\u001b[0m\u001b[0;34m]\u001b[0m \u001b[0;34m=\u001b[0m \u001b[0mold_key_val\u001b[0m\u001b[0;34m\u001b[0m\u001b[0;34m\u001b[0m\u001b[0m\n\u001b[0;32m---> 38\u001b[0;31m       \u001b[0;32mreturn\u001b[0m \u001b[0mfunc\u001b[0m\u001b[0;34m(\u001b[0m\u001b[0;34m*\u001b[0m\u001b[0margs\u001b[0m\u001b[0;34m,\u001b[0m \u001b[0;34m**\u001b[0m\u001b[0mkwargs\u001b[0m\u001b[0;34m)\u001b[0m\u001b[0;34m\u001b[0m\u001b[0;34m\u001b[0m\u001b[0m\n\u001b[0m\u001b[1;32m     39\u001b[0m \u001b[0;34m\u001b[0m\u001b[0m\n\u001b[1;32m     40\u001b[0m     \u001b[0;32mreturn\u001b[0m \u001b[0mwrapper\u001b[0m\u001b[0;34m\u001b[0m\u001b[0;34m\u001b[0m\u001b[0m\n",
            "\u001b[0;32m/usr/local/lib/python3.11/dist-packages/ee/__init__.py\u001b[0m in \u001b[0;36mInitialize\u001b[0;34m(credentials, url, cloud_api_key, http_transport, project)\u001b[0m\n\u001b[1;32m    196\u001b[0m   \u001b[0;31m# their containing project by default.\u001b[0m\u001b[0;34m\u001b[0m\u001b[0;34m\u001b[0m\u001b[0m\n\u001b[1;32m    197\u001b[0m   \u001b[0;32mif\u001b[0m \u001b[0;32mnot\u001b[0m \u001b[0mis_valid_project\u001b[0m \u001b[0;32mand\u001b[0m \u001b[0;32mnot\u001b[0m \u001b[0mis_sa_creds\u001b[0m\u001b[0;34m:\u001b[0m\u001b[0;34m\u001b[0m\u001b[0;34m\u001b[0m\u001b[0m\n\u001b[0;32m--> 198\u001b[0;31m     \u001b[0;32mraise\u001b[0m \u001b[0mEEException\u001b[0m\u001b[0;34m(\u001b[0m\u001b[0mNO_PROJECT_EXCEPTION\u001b[0m\u001b[0;34m)\u001b[0m\u001b[0;34m\u001b[0m\u001b[0;34m\u001b[0m\u001b[0m\n\u001b[0m\u001b[1;32m    199\u001b[0m \u001b[0;34m\u001b[0m\u001b[0m\n\u001b[1;32m    200\u001b[0m   data.initialize(\n",
            "\u001b[0;31mEEException\u001b[0m: ee.Initialize: no project found. Call with project= or see http://goo.gle/ee-auth."
          ]
        }
      ],
      "source": [
        "import ee\n",
        "import geemap\n",
        "\n",
        "# Authenticate to Earth Engine.\n",
        "ee.Authenticate()\n",
        "\n",
        "# Initialize Earth Engine.\n",
        "ee.Initialize()\n",
        "\n",
        "# Instead of setProject, you might want to set the project using the following approach if needed:\n",
        "# ee.data.setAssetProperties(assetId, properties) # where properties could include 'project'"
      ]
    },
    {
      "cell_type": "markdown",
      "id": "8",
      "metadata": {
        "id": "8"
      },
      "source": [
        "## Creating interactive maps\n",
        "\n",
        "Let's create an interactive map using the `ipyleaflet` plotting backend. The [`geemap.Map`](https://geemap.org/geemap/#geemap.geemap.m) class inherits the [`ipyleaflet.Map`](https://ipyleaflet.readthedocs.io/en/latest/map_and_basemaps/map.html) class. Therefore, you can use the same syntax to create an interactive map as you would with `ipyleaflet.Map`."
      ]
    },
    {
      "cell_type": "code",
      "execution_count": null,
      "id": "9",
      "metadata": {
        "id": "9"
      },
      "outputs": [],
      "source": [
        "m = geemap.Map()"
      ]
    },
    {
      "cell_type": "markdown",
      "id": "10",
      "metadata": {
        "id": "10"
      },
      "source": [
        "To display it in a Jupyter notebook, simply ask for the object representation:"
      ]
    },
    {
      "cell_type": "code",
      "execution_count": null,
      "id": "11",
      "metadata": {
        "id": "11"
      },
      "outputs": [],
      "source": [
        "m"
      ]
    },
    {
      "cell_type": "markdown",
      "id": "12",
      "metadata": {
        "id": "12"
      },
      "source": [
        "To customize the map, you can specify various keyword arguments, such as `center` ([lat, lon]), `zoom`, `width`, and `height`. The default `width` is `100%`, which takes up the entire cell width of the Jupyter notebook. The `height` argument accepts a number or a string. If a number is provided, it represents the height of the map in pixels. If a string is provided, the string must be in the format of a number followed by `px`, e.g., `600px`."
      ]
    },
    {
      "cell_type": "code",
      "execution_count": null,
      "id": "13",
      "metadata": {
        "id": "13"
      },
      "outputs": [],
      "source": [
        "m = geemap.Map(center=[40, -100], zoom=4, height=600)\n",
        "m"
      ]
    },
    {
      "cell_type": "markdown",
      "id": "14",
      "metadata": {
        "id": "14"
      },
      "source": [
        "To hide a control, set `control_name` to `False`, e.g., `draw_ctrl=False`."
      ]
    },
    {
      "cell_type": "code",
      "execution_count": null,
      "id": "15",
      "metadata": {
        "id": "15"
      },
      "outputs": [],
      "source": [
        "m = geemap.Map(data_ctrl=False, toolbar_ctrl=False, draw_ctrl=False)\n",
        "m"
      ]
    },
    {
      "cell_type": "markdown",
      "id": "16",
      "metadata": {
        "id": "16"
      },
      "source": [
        "### Adding basemaps\n",
        "\n",
        "There are several ways to add basemaps to a map. You can specify the basemap to use in the `basemap` keyword argument when creating the map. Alternatively, you can add basemap layers to the map using the `add_basemap` method. Geemap has hundreds of built-in basemaps available that can be easily added to the map with only one line of code.\n",
        "\n",
        "Create a map by specifying the basemap to use as follows. For example, the `Esri.WorldImagery` basemap represents the Esri world imagery basemap."
      ]
    },
    {
      "cell_type": "code",
      "execution_count": null,
      "id": "17",
      "metadata": {
        "id": "17"
      },
      "outputs": [],
      "source": [
        "m = geemap.Map(basemap=\"Esri.WorldImagery\")\n",
        "m"
      ]
    },
    {
      "cell_type": "markdown",
      "id": "18",
      "metadata": {
        "id": "18"
      },
      "source": [
        "You can add as many basemaps as you like to the map. For example, the following code adds the `OpenTopoMap` basemap to the map above:"
      ]
    },
    {
      "cell_type": "code",
      "execution_count": null,
      "id": "19",
      "metadata": {
        "id": "19"
      },
      "outputs": [],
      "source": [
        "m.add_basemap(\"Esri.WorldTopoMap\")"
      ]
    },
    {
      "cell_type": "code",
      "execution_count": null,
      "id": "20",
      "metadata": {
        "id": "20"
      },
      "outputs": [],
      "source": [
        "m.add_basemap(\"OpenTopoMap\")"
      ]
    },
    {
      "cell_type": "markdown",
      "id": "21",
      "metadata": {
        "id": "21"
      },
      "source": [
        "Print out the first 10 basemaps:"
      ]
    },
    {
      "cell_type": "code",
      "execution_count": null,
      "id": "22",
      "metadata": {
        "id": "22"
      },
      "outputs": [],
      "source": [
        "basemaps = list(geemap.basemaps.keys())\n",
        "len(geemap.basemaps)"
      ]
    },
    {
      "cell_type": "code",
      "execution_count": null,
      "id": "23",
      "metadata": {
        "id": "23"
      },
      "outputs": [],
      "source": [
        "basemaps[:10]"
      ]
    },
    {
      "cell_type": "markdown",
      "id": "24",
      "metadata": {
        "id": "24"
      },
      "source": [
        "You can also change basemaps interactively using the basemap GUI."
      ]
    },
    {
      "cell_type": "markdown",
      "id": "25",
      "metadata": {
        "id": "25"
      },
      "source": [
        "## Using Earth Engine data (30 mins)\n",
        "\n",
        "### Earth Engine data types (Image, ImageCollection, Geometry, Feature, FeatureCollection)\n",
        "\n",
        "Earth Engine objects are server-side objects rather than client-side objects, which means that they are not stored locally on your computer. Similar to video streaming services (e.g., YouTube, Netflix, and Hulu), which store videos/movies on their servers, Earth Engine data are stored on the Earth Engine servers. We can stream geospatial data from Earth Engine on-the-fly without having to download the data just like we can watch videos from streaming services using a web browser without having to download the entire video to your computer.\n",
        "\n",
        "-   **Image**: the fundamental raster data type in Earth Engine.\n",
        "-   **ImageCollection**: a stack or time-series of images.\n",
        "-   **Geometry**: the fundamental vector data type in Earth Engine.\n",
        "-   **Feature**: a Geometry with attributes.\n",
        "-   **FeatureCollection**: a set of features.\n",
        "\n",
        "### Image\n",
        "\n",
        "Raster data in Earth Engine are represented as **Image** objects. Images are composed of one or more bands and each band has its own name, data type, scale, mask and projection. Each image has metadata stored as a set of properties.\n",
        "\n",
        "#### Loading Earth Engine images"
      ]
    },
    {
      "cell_type": "code",
      "execution_count": null,
      "id": "26",
      "metadata": {
        "id": "26"
      },
      "outputs": [],
      "source": [
        "image = ee.Image(\"USGS/SRTMGL1_003\")\n",
        "image"
      ]
    },
    {
      "cell_type": "markdown",
      "id": "27",
      "metadata": {
        "id": "27"
      },
      "source": [
        "#### Visualizing Earth Engine images"
      ]
    },
    {
      "cell_type": "code",
      "execution_count": null,
      "id": "28",
      "metadata": {
        "id": "28"
      },
      "outputs": [],
      "source": [
        "m = geemap.Map(center=[21.79, 70.87], zoom=3)\n",
        "image = ee.Image(\"USGS/SRTMGL1_003\")\n",
        "vis_params = {\n",
        "    \"min\": 0,\n",
        "    \"max\": 6000,\n",
        "    \"palette\": [\"006633\", \"E5FFCC\", \"662A00\", \"D8D8D8\", \"F5F5F5\"],  # 'terrain'\n",
        "}\n",
        "m.add_layer(image, vis_params, \"SRTM\")\n",
        "m"
      ]
    },
    {
      "cell_type": "markdown",
      "id": "29",
      "metadata": {
        "id": "29"
      },
      "source": [
        "### ImageCollection\n",
        "\n",
        "An `ImageCollection` is a stack or sequence of images. An `ImageCollection` can be loaded by passing an Earth Engine asset ID into the `ImageCollection` constructor. You can find `ImageCollection` IDs in the [Earth Engine Data Catalog](https://developers.google.com/earth-engine/datasets).\n",
        "\n",
        "#### Loading image collections\n",
        "\n",
        "For example, to load the image collection of the [Sentinel-2 surface reflectance](https://developers.google.com/earth-engine/datasets/catalog/COPERNICUS_S2_SR):"
      ]
    },
    {
      "cell_type": "code",
      "execution_count": null,
      "id": "30",
      "metadata": {
        "id": "30"
      },
      "outputs": [],
      "source": [
        "collection = ee.ImageCollection(\"COPERNICUS/S2_SR\")"
      ]
    },
    {
      "cell_type": "markdown",
      "id": "31",
      "metadata": {
        "id": "31"
      },
      "source": [
        "#### Visualizing image collections\n",
        "\n",
        "To visualize an Earth Engine **ImageCollection**, we need to convert an **ImageCollection** to an **Image** by compositing all the images in the collection to a single image representing, for example, the min, max, median, mean or standard deviation of the images. For example, to create a median value image from a collection, use the `collection.median()` method. Let's create a median image from the Sentinel-2 surface reflectance collection:"
      ]
    },
    {
      "cell_type": "code",
      "execution_count": null,
      "id": "32",
      "metadata": {
        "id": "32"
      },
      "outputs": [],
      "source": [
        "m = geemap.Map()\n",
        "collection = ee.ImageCollection(\"COPERNICUS/S2_SR\")\n",
        "image = collection.median()\n",
        "\n",
        "vis = {\n",
        "    \"min\": 0.0,\n",
        "    \"max\": 3000,\n",
        "    \"bands\": [\"B4\", \"B3\", \"B2\"],\n",
        "}\n",
        "\n",
        "m.set_center(83.277, 17.7009, 12)\n",
        "m.add_layer(image, vis, \"Sentinel-2\")\n",
        "m"
      ]
    },
    {
      "cell_type": "markdown",
      "id": "33",
      "metadata": {
        "id": "33"
      },
      "source": [
        "#### Filtering image collections"
      ]
    },
    {
      "cell_type": "code",
      "execution_count": null,
      "id": "34",
      "metadata": {
        "id": "34"
      },
      "outputs": [],
      "source": [
        "m = geemap.Map()\n",
        "collection = (\n",
        "    ee.ImageCollection(\"COPERNICUS/S2_SR\")\n",
        "    .filterDate(\"2021-01-01\", \"2022-01-01\")\n",
        "    .filter(ee.Filter.lt(\"CLOUDY_PIXEL_PERCENTAGE\", 5))\n",
        ")\n",
        "image = collection.median()\n",
        "\n",
        "vis = {\n",
        "    \"min\": 0.0,\n",
        "    \"max\": 3000,\n",
        "    \"bands\": [\"B4\", \"B3\", \"B2\"],\n",
        "}\n",
        "\n",
        "m.set_center(83.277, 17.7009, 12)\n",
        "m.add_layer(image, vis, \"Sentinel-2\")\n",
        "m"
      ]
    },
    {
      "cell_type": "markdown",
      "id": "35",
      "metadata": {
        "id": "35"
      },
      "source": [
        "### FeatureCollection\n",
        "\n",
        "A **FeatureCollection** is a collection of Features. A FeatureCollection is analogous to a GeoJSON FeatureCollection object, i.e., a collection of features with associated properties/attributes. Data contained in a shapefile can be represented as a FeatureCollection.\n",
        "\n",
        "#### Loading feature collections\n",
        "\n",
        "The [Earth Engine Data Catalog](https://developers.google.com/earth-engine/datasets) hosts a variety of vector datasets (e.g,, US Census data, country boundaries, and more) as feature collections. You can find feature collection IDs by searching the data catalog. For example, to load the [TIGER roads data](https://developers.google.com/earth-engine/datasets/catalog/TIGER_2016_Roads) by the U.S. Census Bureau:"
      ]
    },
    {
      "cell_type": "code",
      "execution_count": null,
      "id": "36",
      "metadata": {
        "id": "36"
      },
      "outputs": [],
      "source": [
        "m = geemap.Map()\n",
        "fc = ee.FeatureCollection(\"TIGER/2016/Roads\")\n",
        "m.set_center(-73.9596, 40.7688, 12)\n",
        "m.add_layer(fc, {}, \"Census roads\")\n",
        "m"
      ]
    },
    {
      "cell_type": "markdown",
      "id": "37",
      "metadata": {
        "id": "37"
      },
      "source": [
        "#### Filtering feature collections"
      ]
    },
    {
      "cell_type": "code",
      "execution_count": null,
      "id": "38",
      "metadata": {
        "id": "38"
      },
      "outputs": [],
      "source": [
        "m = geemap.Map()\n",
        "states = ee.FeatureCollection(\"TIGER/2018/States\")\n",
        "fc = states.filter(ee.Filter.eq(\"NAME\", \"Louisiana\"))\n",
        "m.add_layer(fc, {}, \"Louisiana\")\n",
        "m.center_object(fc, 7)\n",
        "m"
      ]
    },
    {
      "cell_type": "code",
      "execution_count": null,
      "id": "39",
      "metadata": {
        "id": "39"
      },
      "outputs": [],
      "source": [
        "feat = fc.first()\n",
        "feat.toDictionary()"
      ]
    },
    {
      "cell_type": "code",
      "execution_count": null,
      "id": "40",
      "metadata": {
        "id": "40"
      },
      "outputs": [],
      "source": [
        "m = geemap.Map()\n",
        "states = ee.FeatureCollection(\"TIGER/2018/States\")\n",
        "fc = states.filter(ee.Filter.inList(\"NAME\", [\"California\", \"Oregon\", \"Washington\"]))\n",
        "m.add_layer(fc, {}, \"West Coast\")\n",
        "m.center_object(fc, 5)\n",
        "m"
      ]
    },
    {
      "cell_type": "code",
      "execution_count": null,
      "id": "41",
      "metadata": {
        "id": "41"
      },
      "outputs": [],
      "source": [
        "region = m.user_roi\n",
        "if region is None:\n",
        "    region = ee.Geometry.BBox(-88.40, 29.88, -77.90, 35.39)\n",
        "\n",
        "fc = ee.FeatureCollection(\"TIGER/2018/States\").filterBounds(region)\n",
        "m.add_layer(fc, {}, \"Southeastern U.S.\")\n",
        "m.center_object(fc, 6)"
      ]
    },
    {
      "cell_type": "markdown",
      "id": "42",
      "metadata": {
        "id": "42"
      },
      "source": [
        "#### Visualizing feature collections"
      ]
    },
    {
      "cell_type": "code",
      "execution_count": null,
      "id": "43",
      "metadata": {
        "id": "43"
      },
      "outputs": [],
      "source": [
        "m = geemap.Map(center=[40, -100], zoom=4)\n",
        "states = ee.FeatureCollection(\"TIGER/2018/States\")\n",
        "m.add_layer(states, {}, \"US States\")\n",
        "m"
      ]
    },
    {
      "cell_type": "code",
      "execution_count": null,
      "id": "44",
      "metadata": {
        "id": "44"
      },
      "outputs": [],
      "source": [
        "m = geemap.Map(center=[40, -100], zoom=4)\n",
        "states = ee.FeatureCollection(\"TIGER/2018/States\")\n",
        "style = {\"color\": \"0000ffff\", \"width\": 2, \"lineType\": \"solid\", \"fillColor\": \"FF000080\"}\n",
        "m.add_layer(states.style(**style), {}, \"US States\")\n",
        "m"
      ]
    },
    {
      "cell_type": "code",
      "execution_count": null,
      "id": "45",
      "metadata": {
        "id": "45"
      },
      "outputs": [],
      "source": [
        "m = geemap.Map(center=[40, -100], zoom=4)\n",
        "states = ee.FeatureCollection(\"TIGER/2018/States\")\n",
        "vis_params = {\n",
        "    \"color\": \"000000\",\n",
        "    \"colorOpacity\": 1,\n",
        "    \"pointSize\": 3,\n",
        "    \"pointShape\": \"circle\",\n",
        "    \"width\": 2,\n",
        "    \"lineType\": \"solid\",\n",
        "    \"fillColorOpacity\": 0.66,\n",
        "}\n",
        "palette = [\"006633\", \"E5FFCC\", \"662A00\", \"D8D8D8\", \"F5F5F5\"]\n",
        "m.add_styled_vector(\n",
        "    states, column=\"NAME\", palette=palette, layer_name=\"Styled vector\", **vis_params\n",
        ")\n",
        "m"
      ]
    },
    {
      "cell_type": "markdown",
      "id": "46",
      "metadata": {
        "id": "46"
      },
      "source": [
        "### Earth Engine Data Catalog\n",
        "\n",
        "The [Earth Engine Data Catalog](https://developers.google.com/earth-engine/datasets) hosts a variety of geospatial datasets. As of October 2023, the catalog contains over [1,000 datasets](https://github.com/opengeos/Earth-Engine-Catalog/blob/master/gee_catalog.tsv) with a total size of over 80 petabytes. Some notable datasets include: Landsat, Sentinel, MODIS, NAIP, etc. For a complete list of datasets in CSV or JSON formats, see the [Earth Engine Datasets List](https://github.com/giswqs/Earth-Engine-Catalog/blob/master/gee_catalog.tsv).\n",
        "\n",
        "#### Searching for datasets\n",
        "\n",
        "The [Earth Engine Data Catalog](https://developers.google.com/earth-engine/datasets/catalog) is searchable. You can search datasets by name, keyword, or tag. For example, enter \"elevation\" in the search box will filter the catalog to show only datasets containing \"elevation\" in their name, description, or tags. 52 datasets are returned for this search query. Scroll down the list to find the [NASA SRTM Digital Elevation 30m](https://developers.google.com/earth-engine/datasets/catalog/USGS_SRTMGL1_003#description) dataset. On each dataset page, you can find the following information, including Dataset Availability, Dataset Provider, Earth Engine Snippet, Tags, Description, Code Example, and more (see {numref}`ch03_gee_srtm`). One important piece of information is the Image/ImageCollection/FeatureCollection ID of each dataset, which is essential for accessing the dataset through the Earth Engine JavaScript or Python APIs.\n",
        "\n",
        "![](https://i.imgur.com/B3rf4QN.jpg)"
      ]
    },
    {
      "cell_type": "code",
      "execution_count": null,
      "id": "47",
      "metadata": {
        "id": "47"
      },
      "outputs": [],
      "source": [
        "m = geemap.Map()\n",
        "m"
      ]
    },
    {
      "cell_type": "code",
      "execution_count": null,
      "id": "48",
      "metadata": {
        "id": "48"
      },
      "outputs": [],
      "source": [
        "dataset_xyz = ee.Image(\"USGS/SRTMGL1_003\")\n",
        "m.add_layer(dataset_xyz, {}, \"USGS/SRTMGL1_003\")"
      ]
    },
    {
      "cell_type": "code",
      "execution_count": null,
      "id": "49",
      "metadata": {
        "id": "49"
      },
      "outputs": [],
      "source": [
        "m = geemap.Map()\n",
        "dem = ee.Image(\"USGS/SRTMGL1_003\")\n",
        "vis_params = {\n",
        "    \"min\": 0,\n",
        "    \"max\": 4000,\n",
        "    \"palette\": [\"006633\", \"E5FFCC\", \"662A00\", \"D8D8D8\", \"F5F5F5\"],\n",
        "}\n",
        "m.add_layer(dem, vis_params, \"SRTM DEM\")\n",
        "m"
      ]
    },
    {
      "cell_type": "markdown",
      "id": "50",
      "metadata": {
        "id": "50"
      },
      "source": [
        "#### Using the datasets module"
      ]
    },
    {
      "cell_type": "code",
      "execution_count": null,
      "id": "51",
      "metadata": {
        "id": "51"
      },
      "outputs": [],
      "source": [
        "from geemap.datasets import DATA"
      ]
    },
    {
      "cell_type": "code",
      "execution_count": null,
      "id": "52",
      "metadata": {
        "id": "52"
      },
      "outputs": [],
      "source": [
        "m = geemap.Map(center=[40, -100], zoom=4)\n",
        "dataset = ee.Image(DATA.USGS_GAP_CONUS_2011)\n",
        "m.add_layer(dataset, {}, \"GAP CONUS\")\n",
        "m"
      ]
    },
    {
      "cell_type": "code",
      "execution_count": null,
      "id": "53",
      "metadata": {
        "id": "53"
      },
      "outputs": [],
      "source": [
        "from geemap.datasets import get_metadata\n",
        "\n",
        "get_metadata(DATA.USGS_GAP_CONUS_2011)"
      ]
    },
    {
      "cell_type": "markdown",
      "id": "54",
      "metadata": {
        "id": "54"
      },
      "source": [
        "### Converting Earth Engine JavaScripts to Python\n",
        "\n",
        "Find some Earth Engine JavaScript code that you want to convert to Python. For example, you can grab some sample code from the [Earth Engine Documentation](https://developers.google.com/earth-engine/guides/image_visualization)."
      ]
    },
    {
      "cell_type": "code",
      "execution_count": null,
      "id": "55",
      "metadata": {
        "id": "55"
      },
      "outputs": [],
      "source": [
        "m = geemap.Map()\n",
        "m"
      ]
    },
    {
      "cell_type": "code",
      "execution_count": null,
      "id": "56",
      "metadata": {
        "id": "56"
      },
      "outputs": [],
      "source": [
        "# Load an image.\n",
        "image = ee.Image(\"LANDSAT/LC08/C02/T1_TOA/LC08_044034_20140318\")\n",
        "\n",
        "# Define the visualization parameters.\n",
        "vizParams = {\"bands\": [\"B5\", \"B4\", \"B3\"], \"min\": 0, \"max\": 0.5, \"gamma\": [0.95, 1.1, 1]}\n",
        "\n",
        "# Center the map and display the image.\n",
        "m.set_center(-122.1899, 37.5010, 10)\n",
        "# San Francisco Bay\n",
        "m.add_layer(image, vizParams, \"False color composite\")"
      ]
    },
    {
      "cell_type": "markdown",
      "id": "57",
      "metadata": {
        "id": "57"
      },
      "source": [
        "### Exercise 1 - Creating cloud-free imagery\n",
        "\n",
        "Create a cloud-free imagery of Texas for the year of 2022. You can use either Landsat 9 or Sentinel-2 imagery. Relevant Earth Engine assets:\n",
        "\n",
        "-   [ee.FeatureCollection(\"TIGER/2018/States\")](https://developers.google.com/earth-engine/datasets/catalog/TIGER_2018_States)\n",
        "-   [ee.ImageCollection(\"COPERNICUS/S2_SR\")](https://developers.google.com/earth-engine/datasets/catalog/COPERNICUS_S2_SR)\n",
        "-   [ee.ImageCollection(\"LANDSAT/LC09/C02/T1_L2\")](https://developers.google.com/earth-engine/datasets/catalog/LANDSAT_LC09_C02_T1_L2)\n",
        "\n",
        "![](https://i.imgur.com/i3IT0lF.png)"
      ]
    },
    {
      "cell_type": "code",
      "execution_count": null,
      "id": "58",
      "metadata": {
        "id": "58"
      },
      "outputs": [],
      "source": []
    },
    {
      "cell_type": "markdown",
      "id": "59",
      "metadata": {
        "id": "59"
      },
      "source": [
        "## Break 1 (10 mins)\n",
        "\n",
        "## Visualizing Earth Engine data (30 mins)\n",
        "\n",
        "### Geemap Inspector tool, plotting tool, interactive GUI for data visualization\n",
        "\n",
        "### Using the inspector tool"
      ]
    },
    {
      "cell_type": "code",
      "execution_count": null,
      "id": "60",
      "metadata": {
        "id": "60"
      },
      "outputs": [],
      "source": [
        "m = geemap.Map(center=(40, -100), zoom=4)\n",
        "\n",
        "dem = ee.Image(\"USGS/SRTMGL1_003\")\n",
        "landsat7 = ee.Image(\"LANDSAT/LE7_TOA_5YEAR/1999_2003\").select(\n",
        "    [\"B1\", \"B2\", \"B3\", \"B4\", \"B5\", \"B7\"]\n",
        ")\n",
        "states = ee.FeatureCollection(\"TIGER/2018/States\")\n",
        "\n",
        "vis_params = {\n",
        "    \"min\": 0,\n",
        "    \"max\": 4000,\n",
        "    \"palette\": [\"006633\", \"E5FFCC\", \"662A00\", \"D8D8D8\", \"F5F5F5\"],\n",
        "}\n",
        "\n",
        "m.add_layer(dem, vis_params, \"SRTM DEM\")\n",
        "m.add_layer(\n",
        "    landsat7,\n",
        "    {\"bands\": [\"B4\", \"B3\", \"B2\"], \"min\": 20, \"max\": 200, \"gamma\": 2.0},\n",
        "    \"Landsat 7\",\n",
        ")\n",
        "m.add_layer(states, {}, \"US States\")\n",
        "m.add(\"inspector\")\n",
        "m"
      ]
    },
    {
      "cell_type": "markdown",
      "id": "61",
      "metadata": {
        "id": "61"
      },
      "source": [
        "### Using the plotting tool"
      ]
    },
    {
      "cell_type": "code",
      "execution_count": null,
      "id": "62",
      "metadata": {
        "id": "62"
      },
      "outputs": [],
      "source": [
        "m = geemap.Map(center=[40, -100], zoom=4)\n",
        "\n",
        "landsat7 = ee.Image(\"LANDSAT/LE7_TOA_5YEAR/1999_2003\").select(\n",
        "    [\"B1\", \"B2\", \"B3\", \"B4\", \"B5\", \"B7\"]\n",
        ")\n",
        "\n",
        "landsat_vis = {\"bands\": [\"B4\", \"B3\", \"B2\"], \"gamma\": 1.4}\n",
        "m.add_layer(landsat7, landsat_vis, \"Landsat\")\n",
        "\n",
        "hyperion = ee.ImageCollection(\"EO1/HYPERION\").filter(\n",
        "    ee.Filter.date(\"2016-01-01\", \"2017-03-01\")\n",
        ")\n",
        "\n",
        "hyperion_vis = {\n",
        "    \"min\": 1000.0,\n",
        "    \"max\": 14000.0,\n",
        "    \"gamma\": 2.5,\n",
        "}\n",
        "m.add_layer(hyperion, hyperion_vis, \"Hyperion\")\n",
        "m.add_plot_gui()\n",
        "m"
      ]
    },
    {
      "cell_type": "markdown",
      "id": "63",
      "metadata": {
        "id": "63"
      },
      "source": [
        "Set plotting options for Landsat."
      ]
    },
    {
      "cell_type": "code",
      "execution_count": null,
      "id": "64",
      "metadata": {
        "id": "64"
      },
      "outputs": [],
      "source": [
        "m.set_plot_options(add_marker_cluster=True, overlay=True)"
      ]
    },
    {
      "cell_type": "markdown",
      "id": "65",
      "metadata": {
        "id": "65"
      },
      "source": [
        "Set plotting options for Hyperion."
      ]
    },
    {
      "cell_type": "code",
      "execution_count": null,
      "id": "66",
      "metadata": {
        "id": "66"
      },
      "outputs": [],
      "source": [
        "m.set_plot_options(add_marker_cluster=True, plot_type=\"bar\")"
      ]
    },
    {
      "cell_type": "markdown",
      "id": "67",
      "metadata": {
        "id": "67"
      },
      "source": [
        "### Legends, color bars, and labels\n",
        "\n",
        "#### Built-in legends"
      ]
    },
    {
      "cell_type": "code",
      "execution_count": null,
      "id": "68",
      "metadata": {
        "id": "68"
      },
      "outputs": [],
      "source": [
        "from geemap.legends import builtin_legends"
      ]
    },
    {
      "cell_type": "code",
      "execution_count": null,
      "id": "69",
      "metadata": {
        "id": "69"
      },
      "outputs": [],
      "source": [
        "for legend in builtin_legends:\n",
        "    print(legend)"
      ]
    },
    {
      "cell_type": "markdown",
      "id": "70",
      "metadata": {
        "id": "70"
      },
      "source": [
        "Add NLCD WMS layer and legend to the map."
      ]
    },
    {
      "cell_type": "code",
      "execution_count": null,
      "id": "71",
      "metadata": {
        "id": "71"
      },
      "outputs": [],
      "source": [
        "m = geemap.Map(center=[40, -100], zoom=4)\n",
        "m.add_basemap(\"Esri.WorldImagery\")\n",
        "m.add_basemap(\"NLCD 2021 CONUS Land Cover\")\n",
        "m.add_legend(builtin_legend=\"NLCD\", max_width=\"100px\", height=\"455px\")\n",
        "m"
      ]
    },
    {
      "cell_type": "markdown",
      "id": "72",
      "metadata": {
        "id": "72"
      },
      "source": [
        "Add NLCD Earth Engine layer and legend to the map."
      ]
    },
    {
      "cell_type": "code",
      "execution_count": null,
      "id": "73",
      "metadata": {
        "id": "73"
      },
      "outputs": [],
      "source": [
        "m = geemap.Map(center=[40, -100], zoom=4)\n",
        "m.add_basemap(\"Esri.WorldImagery\")\n",
        "\n",
        "nlcd = ee.Image(\"USGS/NLCD_RELEASES/2021_REL/NLCD/2021\")\n",
        "landcover = nlcd.select(\"landcover\")\n",
        "\n",
        "m.add_layer(landcover, {}, \"NLCD Land Cover 2021\")\n",
        "m.add_legend(\n",
        "    title=\"NLCD Land Cover Classification\", builtin_legend=\"NLCD\", height=\"455px\"\n",
        ")\n",
        "m"
      ]
    },
    {
      "cell_type": "markdown",
      "id": "74",
      "metadata": {
        "id": "74"
      },
      "source": [
        "#### Custom legends"
      ]
    },
    {
      "cell_type": "markdown",
      "id": "75",
      "metadata": {
        "id": "75"
      },
      "source": [
        "Add a custom legend by specifying the colors and labels."
      ]
    },
    {
      "cell_type": "code",
      "execution_count": null,
      "id": "76",
      "metadata": {
        "id": "76"
      },
      "outputs": [],
      "source": [
        "m = geemap.Map(add_google_map=False)\n",
        "\n",
        "keys = [\"One\", \"Two\", \"Three\", \"Four\", \"etc\"]\n",
        "\n",
        "# colors can be defined using either hex code or RGB (0-255, 0-255, 0-255)\n",
        "colors = [\"#8DD3C7\", \"#FFFFB3\", \"#BEBADA\", \"#FB8072\", \"#80B1D3\"]\n",
        "# legend_colors = [(255, 0, 0), (127, 255, 0), (127, 18, 25), (36, 70, 180), (96, 68 123)]\n",
        "\n",
        "m.add_legend(keys=keys, colors=colors, position=\"bottomright\")\n",
        "m"
      ]
    },
    {
      "cell_type": "markdown",
      "id": "77",
      "metadata": {
        "id": "77"
      },
      "source": [
        "Add a custom legend by specifying a dictionary of colors and labels."
      ]
    },
    {
      "cell_type": "code",
      "execution_count": null,
      "id": "78",
      "metadata": {
        "id": "78"
      },
      "outputs": [],
      "source": [
        "m = geemap.Map(center=[40, -100], zoom=4)\n",
        "m.add_basemap(\"Esri.WorldImagery\")\n",
        "\n",
        "legend_dict = {\n",
        "    \"11 Open Water\": \"466b9f\",\n",
        "    \"12 Perennial Ice/Snow\": \"d1def8\",\n",
        "    \"21 Developed, Open Space\": \"dec5c5\",\n",
        "    \"22 Developed, Low Intensity\": \"d99282\",\n",
        "    \"23 Developed, Medium Intensity\": \"eb0000\",\n",
        "    \"24 Developed High Intensity\": \"ab0000\",\n",
        "    \"31 Barren Land (Rock/Sand/Clay)\": \"b3ac9f\",\n",
        "    \"41 Deciduous Forest\": \"68ab5f\",\n",
        "    \"42 Evergreen Forest\": \"1c5f2c\",\n",
        "    \"43 Mixed Forest\": \"b5c58f\",\n",
        "    \"51 Dwarf Scrub\": \"af963c\",\n",
        "    \"52 Shrub/Scrub\": \"ccb879\",\n",
        "    \"71 Grassland/Herbaceous\": \"dfdfc2\",\n",
        "    \"72 Sedge/Herbaceous\": \"d1d182\",\n",
        "    \"73 Lichens\": \"a3cc51\",\n",
        "    \"74 Moss\": \"82ba9e\",\n",
        "    \"81 Pasture/Hay\": \"dcd939\",\n",
        "    \"82 Cultivated Crops\": \"ab6c28\",\n",
        "    \"90 Woody Wetlands\": \"b8d9eb\",\n",
        "    \"95 Emergent Herbaceous Wetlands\": \"6c9fb8\",\n",
        "}\n",
        "\n",
        "nlcd = ee.Image(\"USGS/NLCD_RELEASES/2021_REL/NLCD/2021\")\n",
        "landcover = nlcd.select(\"landcover\")\n",
        "\n",
        "m.add_layer(landcover, {}, \"NLCD Land Cover 2021\")\n",
        "m.add_legend(title=\"NLCD Land Cover Classification\", legend_dict=legend_dict)\n",
        "m"
      ]
    },
    {
      "cell_type": "markdown",
      "id": "79",
      "metadata": {
        "id": "79"
      },
      "source": [
        "#### Creating color bars\n",
        "\n",
        "Add a horizontal color bar."
      ]
    },
    {
      "cell_type": "code",
      "execution_count": null,
      "id": "80",
      "metadata": {
        "id": "80"
      },
      "outputs": [],
      "source": [
        "m = geemap.Map()\n",
        "\n",
        "dem = ee.Image(\"USGS/SRTMGL1_003\")\n",
        "vis_params = {\n",
        "    \"min\": 0,\n",
        "    \"max\": 4000,\n",
        "    \"palette\": [\"006633\", \"E5FFCC\", \"662A00\", \"D8D8D8\", \"F5F5F5\"],\n",
        "}\n",
        "\n",
        "m.add_layer(dem, vis_params, \"SRTM DEM\")\n",
        "m.add_colorbar(vis_params, label=\"Elevation (m)\", layer_name=\"SRTM DEM\")\n",
        "m"
      ]
    },
    {
      "cell_type": "markdown",
      "id": "81",
      "metadata": {
        "id": "81"
      },
      "source": [
        "Add a vertical color bar."
      ]
    },
    {
      "cell_type": "code",
      "execution_count": null,
      "id": "82",
      "metadata": {
        "id": "82"
      },
      "outputs": [],
      "source": [
        "m.add_colorbar(\n",
        "    vis_params,\n",
        "    label=\"Elevation (m)\",\n",
        "    layer_name=\"SRTM DEM\",\n",
        "    orientation=\"vertical\",\n",
        "    max_width=\"100px\",\n",
        ")"
      ]
    },
    {
      "cell_type": "markdown",
      "id": "83",
      "metadata": {
        "id": "83"
      },
      "source": [
        "Make the color bar background transparent."
      ]
    },
    {
      "cell_type": "code",
      "execution_count": null,
      "id": "84",
      "metadata": {
        "id": "84"
      },
      "outputs": [],
      "source": [
        "m.add_colorbar(\n",
        "    vis_params,\n",
        "    label=\"Elevation (m)\",\n",
        "    layer_name=\"SRTM DEM\",\n",
        "    orientation=\"vertical\",\n",
        "    max_width=\"100px\",\n",
        "    transparent_bg=True,\n",
        ")"
      ]
    },
    {
      "cell_type": "markdown",
      "id": "85",
      "metadata": {
        "id": "85"
      },
      "source": [
        "### Split-panel map and linked maps\n",
        "\n",
        "### Split-panel maps\n",
        "\n",
        "Create a split map with basemaps. Note that ipyleaflet has a bug with the SplitControl. You can't pan the map, which should be resolved in the next ipyleaflet release."
      ]
    },
    {
      "cell_type": "code",
      "execution_count": null,
      "id": "86",
      "metadata": {
        "id": "86"
      },
      "outputs": [],
      "source": [
        "m = geemap.Map()\n",
        "m.split_map(left_layer=\"Esri.WorldTopoMap\", right_layer=\"OpenTopoMap\")\n",
        "m"
      ]
    },
    {
      "cell_type": "markdown",
      "id": "87",
      "metadata": {
        "id": "87"
      },
      "source": [
        "Create a split map with Earth Engine layers."
      ]
    },
    {
      "cell_type": "code",
      "execution_count": null,
      "id": "88",
      "metadata": {
        "id": "88"
      },
      "outputs": [],
      "source": [
        "m = geemap.Map(center=(40, -100), zoom=4, height=600)\n",
        "\n",
        "nlcd_2001 = ee.Image(\"USGS/NLCD_RELEASES/2019_REL/NLCD/2001\").select(\"landcover\")\n",
        "nlcd_2019 = ee.Image(\"USGS/NLCD_RELEASES/2021_REL/NLCD/2021\").select(\"landcover\")\n",
        "\n",
        "left_layer = geemap.ee_tile_layer(nlcd_2001, {}, \"NLCD 2001\")\n",
        "right_layer = geemap.ee_tile_layer(nlcd_2019, {}, \"NLCD 2021\")\n",
        "\n",
        "m.split_map(left_layer, right_layer)\n",
        "m"
      ]
    },
    {
      "cell_type": "markdown",
      "id": "89",
      "metadata": {
        "id": "89"
      },
      "source": [
        "### Linked maps\n",
        "\n",
        "Create a 2x2 linked map for visualizing Sentinel-2 imagery with different band combinations. Note that this feature does not work properly with Colab. Panning one map would not pan other maps."
      ]
    },
    {
      "cell_type": "code",
      "execution_count": null,
      "id": "90",
      "metadata": {
        "id": "90"
      },
      "outputs": [],
      "source": [
        "image = (\n",
        "    ee.ImageCollection(\"COPERNICUS/S2\")\n",
        "    .filterDate(\"2018-09-01\", \"2018-09-30\")\n",
        "    .map(lambda img: img.divide(10000))\n",
        "    .median()\n",
        ")\n",
        "\n",
        "vis_params = [\n",
        "    {\"bands\": [\"B4\", \"B3\", \"B2\"], \"min\": 0, \"max\": 0.3, \"gamma\": 1.3},\n",
        "    {\"bands\": [\"B8\", \"B11\", \"B4\"], \"min\": 0, \"max\": 0.3, \"gamma\": 1.3},\n",
        "    {\"bands\": [\"B8\", \"B4\", \"B3\"], \"min\": 0, \"max\": 0.3, \"gamma\": 1.3},\n",
        "    {\"bands\": [\"B12\", \"B12\", \"B4\"], \"min\": 0, \"max\": 0.3, \"gamma\": 1.3},\n",
        "]\n",
        "\n",
        "labels = [\n",
        "    \"Natural Color (B4/B3/B2)\",\n",
        "    \"Land/Water (B8/B11/B4)\",\n",
        "    \"Color Infrared (B8/B4/B3)\",\n",
        "    \"Vegetation (B12/B11/B4)\",\n",
        "]\n",
        "\n",
        "geemap.linked_maps(\n",
        "    rows=2,\n",
        "    cols=2,\n",
        "    height=\"300px\",\n",
        "    center=[38.4151, 21.2712],\n",
        "    zoom=12,\n",
        "    ee_objects=[image],\n",
        "    vis_params=vis_params,\n",
        "    labels=labels,\n",
        "    label_position=\"topright\",\n",
        ")"
      ]
    },
    {
      "cell_type": "markdown",
      "id": "91",
      "metadata": {
        "id": "91"
      },
      "source": [
        "### Timeseries inspector and time slider\n",
        "\n",
        "#### Timeseries inspector\n",
        "\n",
        "Check the available years of NLCD."
      ]
    },
    {
      "cell_type": "code",
      "execution_count": null,
      "id": "92",
      "metadata": {
        "id": "92"
      },
      "outputs": [],
      "source": [
        "m = geemap.Map(center=[40, -100], zoom=4)\n",
        "collection = ee.ImageCollection(\"USGS/NLCD_RELEASES/2019_REL/NLCD\").select(\"landcover\")\n",
        "vis_params = {\"bands\": [\"landcover\"]}\n",
        "years = collection.aggregate_array(\"system:index\").getInfo()\n",
        "years"
      ]
    },
    {
      "cell_type": "markdown",
      "id": "93",
      "metadata": {
        "id": "93"
      },
      "source": [
        "Create a timeseries inspector for NLCD. Note that ipyleaflet has a bug with the SplitControl. You can't pan the map, which should be resolved in the next ipyleaflet release."
      ]
    },
    {
      "cell_type": "code",
      "execution_count": null,
      "id": "94",
      "metadata": {
        "id": "94"
      },
      "outputs": [],
      "source": [
        "m.ts_inspector(\n",
        "    left_ts=collection,\n",
        "    right_ts=collection,\n",
        "    left_names=years,\n",
        "    right_names=years,\n",
        "    left_vis=vis_params,\n",
        "    right_vis=vis_params,\n",
        "    width=\"80px\",\n",
        ")\n",
        "m"
      ]
    },
    {
      "cell_type": "markdown",
      "id": "95",
      "metadata": {
        "id": "95"
      },
      "source": [
        "#### Time slider\n",
        "\n",
        "Note that this feature may not work properly with Colab. Restart Colab runtime if the time slider does not work.\n",
        "\n",
        "Create a map for visualizing MODIS vegetation data."
      ]
    },
    {
      "cell_type": "code",
      "execution_count": null,
      "id": "96",
      "metadata": {
        "id": "96"
      },
      "outputs": [],
      "source": [
        "m = geemap.Map()\n",
        "\n",
        "collection = (\n",
        "    ee.ImageCollection(\"MODIS/MCD43A4_006_NDVI\")\n",
        "    .filter(ee.Filter.date(\"2018-06-01\", \"2018-07-01\"))\n",
        "    .select(\"NDVI\")\n",
        ")\n",
        "vis_params = {\n",
        "    \"min\": 0.0,\n",
        "    \"max\": 1.0,\n",
        "    \"palette\": \"ndvi\",\n",
        "}\n",
        "\n",
        "m.add_time_slider(collection, vis_params, time_interval=2)\n",
        "m"
      ]
    },
    {
      "cell_type": "markdown",
      "id": "97",
      "metadata": {
        "id": "97"
      },
      "source": [
        "Create a map for visualizing weather data."
      ]
    },
    {
      "cell_type": "code",
      "execution_count": null,
      "id": "98",
      "metadata": {
        "id": "98"
      },
      "outputs": [],
      "source": [
        "m = geemap.Map()\n",
        "\n",
        "collection = (\n",
        "    ee.ImageCollection(\"NOAA/GFS0P25\")\n",
        "    .filterDate(\"2018-12-22\", \"2018-12-23\")\n",
        "    .limit(24)\n",
        "    .select(\"temperature_2m_above_ground\")\n",
        ")\n",
        "\n",
        "vis_params = {\n",
        "    \"min\": -40.0,\n",
        "    \"max\": 35.0,\n",
        "    \"palette\": [\"blue\", \"purple\", \"cyan\", \"green\", \"yellow\", \"red\"],\n",
        "}\n",
        "\n",
        "labels = [str(n).zfill(2) + \":00\" for n in range(0, 24)]\n",
        "m.add_time_slider(collection, vis_params, labels=labels, time_interval=1, opacity=0.8)\n",
        "m"
      ]
    },
    {
      "cell_type": "markdown",
      "id": "99",
      "metadata": {
        "id": "99"
      },
      "source": [
        "Visualizing Sentinel-2 imagery"
      ]
    },
    {
      "cell_type": "code",
      "execution_count": null,
      "id": "100",
      "metadata": {
        "id": "100"
      },
      "outputs": [],
      "source": [
        "m = geemap.Map(center=[37.75, -122.45], zoom=12)\n",
        "\n",
        "collection = (\n",
        "    ee.ImageCollection(\"COPERNICUS/S2_SR\")\n",
        "    .filterBounds(ee.Geometry.Point([-122.45, 37.75]))\n",
        "    .filterMetadata(\"CLOUDY_PIXEL_PERCENTAGE\", \"less_than\", 10)\n",
        ")\n",
        "\n",
        "vis_params = {\"min\": 0, \"max\": 4000, \"bands\": [\"B8\", \"B4\", \"B3\"]}\n",
        "\n",
        "m.add_time_slider(collection, vis_params)\n",
        "m"
      ]
    },
    {
      "cell_type": "markdown",
      "id": "101",
      "metadata": {
        "id": "101"
      },
      "source": [
        "### Exercise 2 - Creating land cover maps with a legend\n",
        "\n",
        "Create a split map for visualizing NLCD land cover change in Texas between 2001 and 2019. Add the NLCD legend to the map. Relevant Earth Engine assets:\n",
        "\n",
        "-   [ee.FeatureCollection(\"TIGER/2018/States\")](https://developers.google.com/earth-engine/datasets/catalog/TIGER_2018_States)\n",
        "-   [ee.ImageCollection(\"USGS/NLCD_RELEASES/2019_REL/NLCD\")](https://developers.google.com/earth-engine/datasets/catalog/USGS_NLCD_RELEASES_2019_REL_NLCD)\n",
        "\n",
        "![](https://i.imgur.com/1b62CeI.jpg)"
      ]
    },
    {
      "cell_type": "code",
      "execution_count": null,
      "id": "102",
      "metadata": {
        "id": "102"
      },
      "outputs": [],
      "source": []
    },
    {
      "cell_type": "markdown",
      "id": "103",
      "metadata": {
        "id": "103"
      },
      "source": [
        "## Analyzing Earth Engine data (30 mins)\n",
        "\n",
        "### Image descriptive statistics\n",
        "\n",
        "Use a sample Landsat image."
      ]
    },
    {
      "cell_type": "code",
      "execution_count": null,
      "id": "104",
      "metadata": {
        "id": "104"
      },
      "outputs": [],
      "source": [
        "import geemap"
      ]
    },
    {
      "cell_type": "code",
      "execution_count": null,
      "id": "105",
      "metadata": {
        "id": "105"
      },
      "outputs": [],
      "source": [
        "m = geemap.Map()\n",
        "m"
      ]
    },
    {
      "cell_type": "code",
      "execution_count": null,
      "id": "106",
      "metadata": {
        "id": "106"
      },
      "outputs": [],
      "source": [
        "m = geemap.Map()\n",
        "\n",
        "centroid = ee.Geometry.Point([-122.4439, 37.7538])\n",
        "image = ee.ImageCollection(\"LANDSAT/LC08/C01/T1_SR\").filterBounds(centroid).first()\n",
        "vis = {\"min\": 0, \"max\": 3000, \"bands\": [\"B5\", \"B4\", \"B3\"]}\n",
        "\n",
        "m.center_object(centroid, 8)\n",
        "m.add_layer(image, vis, \"Landsat-8\")\n",
        "m.add_layer(centroid, {}, \"Centroid\")\n",
        "m"
      ]
    },
    {
      "cell_type": "markdown",
      "id": "107",
      "metadata": {
        "id": "107"
      },
      "source": [
        "Check image properties."
      ]
    },
    {
      "cell_type": "code",
      "execution_count": null,
      "id": "108",
      "metadata": {
        "id": "108"
      },
      "outputs": [],
      "source": [
        "image.propertyNames()"
      ]
    },
    {
      "cell_type": "markdown",
      "id": "109",
      "metadata": {
        "id": "109"
      },
      "source": [
        "Check image property values."
      ]
    },
    {
      "cell_type": "code",
      "execution_count": null,
      "id": "110",
      "metadata": {
        "id": "110"
      },
      "outputs": [],
      "source": [
        "image.toDictionary()"
      ]
    },
    {
      "cell_type": "markdown",
      "id": "111",
      "metadata": {
        "id": "111"
      },
      "source": [
        "Get specific image properties."
      ]
    },
    {
      "cell_type": "code",
      "execution_count": null,
      "id": "112",
      "metadata": {
        "id": "112"
      },
      "outputs": [],
      "source": [
        "image.get(\"CLOUD_COVER\")  # 0.05"
      ]
    },
    {
      "cell_type": "markdown",
      "id": "113",
      "metadata": {
        "id": "113"
      },
      "source": [
        "Get image properties with easy-to-read time format."
      ]
    },
    {
      "cell_type": "code",
      "execution_count": null,
      "id": "114",
      "metadata": {
        "id": "114"
      },
      "outputs": [],
      "source": [
        "props = geemap.image_props(image)\n",
        "props"
      ]
    },
    {
      "cell_type": "markdown",
      "id": "115",
      "metadata": {
        "id": "115"
      },
      "source": [
        "Compute image descriptive statistics."
      ]
    },
    {
      "cell_type": "code",
      "execution_count": null,
      "id": "116",
      "metadata": {
        "id": "116"
      },
      "outputs": [],
      "source": [
        "stats = geemap.image_stats(image, scale=30)\n",
        "stats"
      ]
    },
    {
      "cell_type": "markdown",
      "id": "117",
      "metadata": {
        "id": "117"
      },
      "source": [
        "### Zonal statistics\n",
        "\n",
        "#### Zonal statistics\n",
        "\n",
        "Add Earth Engine data to the map."
      ]
    },
    {
      "cell_type": "code",
      "execution_count": null,
      "id": "118",
      "metadata": {
        "id": "118"
      },
      "outputs": [],
      "source": [
        "m = geemap.Map(center=[40, -100], zoom=4)\n",
        "\n",
        "# Add NASA SRTM\n",
        "dem = ee.Image(\"USGS/SRTMGL1_003\")\n",
        "dem_vis = {\n",
        "    \"min\": 0,\n",
        "    \"max\": 4000,\n",
        "    \"palette\": [\"006633\", \"E5FFCC\", \"662A00\", \"D8D8D8\", \"F5F5F5\"],\n",
        "}\n",
        "m.add_layer(dem, dem_vis, \"SRTM DEM\")\n",
        "\n",
        "# Add 5-year Landsat TOA composite\n",
        "landsat = ee.Image(\"LANDSAT/LE7_TOA_5YEAR/1999_2003\")\n",
        "landsat_vis = {\"bands\": [\"B4\", \"B3\", \"B2\"], \"gamma\": 1.4}\n",
        "m.add_layer(landsat, landsat_vis, \"Landsat\", False)\n",
        "\n",
        "# Add US Census States\n",
        "states = ee.FeatureCollection(\"TIGER/2018/States\")\n",
        "style = {\"fillColor\": \"00000000\"}\n",
        "m.add_layer(states.style(**style), {}, \"US States\")\n",
        "m"
      ]
    },
    {
      "cell_type": "markdown",
      "id": "119",
      "metadata": {
        "id": "119"
      },
      "source": [
        "Compute zonal statistics. In this case, we compute the mean elevation of each state and export the results to a CSV file."
      ]
    },
    {
      "cell_type": "code",
      "execution_count": null,
      "id": "120",
      "metadata": {
        "id": "120"
      },
      "outputs": [],
      "source": [
        "out_dem_stats = \"dem_stats.csv\"\n",
        "geemap.zonal_stats(\n",
        "    dem, states, out_dem_stats, stat_type=\"MEAN\", scale=1000, return_fc=False\n",
        ")"
      ]
    },
    {
      "cell_type": "markdown",
      "id": "121",
      "metadata": {
        "id": "121"
      },
      "source": [
        "Display the csv file as a table."
      ]
    },
    {
      "cell_type": "code",
      "execution_count": null,
      "id": "122",
      "metadata": {
        "id": "122"
      },
      "outputs": [],
      "source": [
        "geemap.csv_to_df(out_dem_stats).sort_values(by=[\"mean\"], ascending=True)"
      ]
    },
    {
      "cell_type": "markdown",
      "id": "123",
      "metadata": {
        "id": "123"
      },
      "source": [
        "Compute zonal statistics of mean spectral values of each state."
      ]
    },
    {
      "cell_type": "code",
      "execution_count": null,
      "id": "124",
      "metadata": {
        "id": "124"
      },
      "outputs": [],
      "source": [
        "out_landsat_stats = \"landsat_stats.csv\"\n",
        "geemap.zonal_stats(\n",
        "    landsat,\n",
        "    states,\n",
        "    out_landsat_stats,\n",
        "    stat_type=\"MEAN\",\n",
        "    scale=1000,\n",
        "    return_fc=False,\n",
        ")"
      ]
    },
    {
      "cell_type": "code",
      "execution_count": null,
      "id": "125",
      "metadata": {
        "id": "125"
      },
      "outputs": [],
      "source": [
        "geemap.csv_to_df(out_landsat_stats)"
      ]
    },
    {
      "cell_type": "markdown",
      "id": "126",
      "metadata": {
        "id": "126"
      },
      "source": [
        "#### Zonal statistics by group\n",
        "\n",
        "Compute zonal statistics by group. In this case, we compute the area of each land cover type in each state and export the results to a CSV file."
      ]
    },
    {
      "cell_type": "code",
      "execution_count": null,
      "id": "127",
      "metadata": {
        "id": "127"
      },
      "outputs": [],
      "source": [
        "m = geemap.Map(center=[40, -100], zoom=4)\n",
        "\n",
        "# Add NLCD data\n",
        "dataset = ee.Image(\"USGS/NLCD_RELEASES/2021_REL/NLCD/2021\")\n",
        "landcover = dataset.select(\"landcover\")\n",
        "m.add_layer(landcover, {}, \"NLCD 2021\")\n",
        "\n",
        "# Add US census states\n",
        "states = ee.FeatureCollection(\"TIGER/2018/States\")\n",
        "style = {\"fillColor\": \"00000000\"}\n",
        "m.add_layer(states.style(**style), {}, \"US States\")\n",
        "\n",
        "# Add NLCD legend\n",
        "m.add_legend(title=\"NLCD Land Cover\", builtin_legend=\"NLCD\")\n",
        "m"
      ]
    },
    {
      "cell_type": "markdown",
      "id": "128",
      "metadata": {
        "id": "128"
      },
      "source": [
        "Compute zonal statistics by group and convert the area unit from square meters to square kilometers."
      ]
    },
    {
      "cell_type": "code",
      "execution_count": null,
      "id": "129",
      "metadata": {
        "id": "129"
      },
      "outputs": [],
      "source": [
        "nlcd_stats = \"nlcd_stats.csv\"\n",
        "\n",
        "geemap.zonal_stats_by_group(\n",
        "    landcover,\n",
        "    states,\n",
        "    nlcd_stats,\n",
        "    stat_type=\"SUM\",\n",
        "    denominator=1e6,\n",
        "    decimal_places=2,\n",
        ")"
      ]
    },
    {
      "cell_type": "code",
      "execution_count": null,
      "id": "130",
      "metadata": {
        "id": "130"
      },
      "outputs": [],
      "source": [
        "geemap.csv_to_df(nlcd_stats)"
      ]
    },
    {
      "cell_type": "markdown",
      "id": "131",
      "metadata": {
        "id": "131"
      },
      "source": [
        "Calculate the percentage of each land cover type in each state."
      ]
    },
    {
      "cell_type": "code",
      "execution_count": null,
      "id": "132",
      "metadata": {
        "id": "132"
      },
      "outputs": [],
      "source": [
        "nlcd_stats = \"nlcd_stats_pct.csv\"\n",
        "\n",
        "geemap.zonal_stats_by_group(\n",
        "    landcover,\n",
        "    states,\n",
        "    nlcd_stats,\n",
        "    stat_type=\"PERCENTAGE\",\n",
        "    denominator=1e6,\n",
        "    decimal_places=2,\n",
        ")"
      ]
    },
    {
      "cell_type": "code",
      "execution_count": null,
      "id": "133",
      "metadata": {
        "id": "133"
      },
      "outputs": [],
      "source": [
        "geemap.csv_to_df(nlcd_stats)"
      ]
    },
    {
      "cell_type": "markdown",
      "id": "134",
      "metadata": {
        "id": "134"
      },
      "source": [
        "#### Zonal statistics with two images"
      ]
    },
    {
      "cell_type": "markdown",
      "id": "135",
      "metadata": {
        "id": "135"
      },
      "source": [
        "The zonal statistics by zone algorithm is similar to the zonal statistics by group algorithm, but it takes an image as the zone input instead of a feature collection."
      ]
    },
    {
      "cell_type": "code",
      "execution_count": null,
      "id": "136",
      "metadata": {
        "id": "136"
      },
      "outputs": [],
      "source": [
        "m = geemap.Map(center=[40, -100], zoom=4)\n",
        "dem = ee.Image(\"USGS/3DEP/10m\")\n",
        "vis = {\"min\": 0, \"max\": 4000, \"palette\": \"terrain\"}\n",
        "m.add_layer(dem, vis, \"DEM\")\n",
        "m"
      ]
    },
    {
      "cell_type": "code",
      "execution_count": null,
      "id": "137",
      "metadata": {
        "id": "137"
      },
      "outputs": [],
      "source": [
        "landcover = ee.Image(\"USGS/NLCD_RELEASES/2021_REL/NLCD/2021\").select(\"landcover\")\n",
        "m.add_layer(landcover, {}, \"NLCD 2021\")\n",
        "m.add_legend(title=\"NLCD Land Cover Classification\", builtin_legend=\"NLCD\")"
      ]
    },
    {
      "cell_type": "markdown",
      "id": "138",
      "metadata": {
        "id": "138"
      },
      "source": [
        "Computer the mean elevation of each land cover type."
      ]
    },
    {
      "cell_type": "code",
      "execution_count": null,
      "id": "139",
      "metadata": {
        "id": "139"
      },
      "outputs": [],
      "source": [
        "stats = geemap.image_stats_by_zone(dem, landcover, reducer=\"MEAN\")\n",
        "stats"
      ]
    },
    {
      "cell_type": "code",
      "execution_count": null,
      "id": "140",
      "metadata": {
        "id": "140"
      },
      "outputs": [],
      "source": [
        "stats.to_csv(\"mean.csv\", index=False)"
      ]
    },
    {
      "cell_type": "markdown",
      "id": "141",
      "metadata": {
        "id": "141"
      },
      "source": [
        "Compute the standard deviation of each land cover type."
      ]
    },
    {
      "cell_type": "code",
      "execution_count": null,
      "id": "142",
      "metadata": {
        "id": "142"
      },
      "outputs": [],
      "source": [
        "geemap.image_stats_by_zone(dem, landcover, out_csv=\"std.csv\", reducer=\"STD\")"
      ]
    },
    {
      "cell_type": "code",
      "execution_count": null,
      "id": "143",
      "metadata": {
        "id": "143"
      },
      "outputs": [],
      "source": [
        "geemap.csv_to_df(\"std.csv\")"
      ]
    },
    {
      "cell_type": "markdown",
      "id": "144",
      "metadata": {
        "id": "144"
      },
      "source": [
        "### Exercise 3 - Zonal statistics\n",
        "\n",
        "Find out which state has the highest mean temperature on in the United States on June 28, 2023. Relevant Earth Engine assets:\n",
        "\n",
        "-   [ee.FeatureCollection(\"TIGER/2018/States\")](https://developers.google.com/earth-engine/datasets/catalog/TIGER_2018_States)\n",
        "-   [ee.ImageCollection(\"NOAA/GFS0P25\")](https://developers.google.com/earth-engine/datasets/catalog/NOAA_GFS0P25)\n",
        "\n",
        "![](https://i.imgur.com/GZCHHz3.png)"
      ]
    },
    {
      "cell_type": "code",
      "execution_count": null,
      "id": "145",
      "metadata": {
        "id": "145"
      },
      "outputs": [],
      "source": []
    },
    {
      "cell_type": "markdown",
      "id": "146",
      "metadata": {
        "id": "146"
      },
      "source": [
        "### Coordinate grids and fishnets\n",
        "\n",
        "#### Creating coordinate grids\n",
        "\n",
        "Create a latitudinal grid with a 5-degree interval."
      ]
    },
    {
      "cell_type": "code",
      "execution_count": null,
      "id": "147",
      "metadata": {
        "id": "147"
      },
      "outputs": [],
      "source": [
        "lat_grid = geemap.latitude_grid(step=5.0, west=-180, east=180, south=-85, north=85)"
      ]
    },
    {
      "cell_type": "code",
      "execution_count": null,
      "id": "148",
      "metadata": {
        "id": "148"
      },
      "outputs": [],
      "source": [
        "m = geemap.Map()\n",
        "style = {\"fillColor\": \"00000000\"}\n",
        "m.add_layer(lat_grid.style(**style), {}, \"Latitude Grid\")\n",
        "m"
      ]
    },
    {
      "cell_type": "code",
      "execution_count": null,
      "id": "149",
      "metadata": {
        "id": "149"
      },
      "outputs": [],
      "source": [
        "df = geemap.ee_to_df(lat_grid)\n",
        "df.head()"
      ]
    },
    {
      "cell_type": "markdown",
      "id": "150",
      "metadata": {
        "id": "150"
      },
      "source": [
        "Create a longitudinal grid with a 5-degree interval."
      ]
    },
    {
      "cell_type": "code",
      "execution_count": null,
      "id": "151",
      "metadata": {
        "id": "151"
      },
      "outputs": [],
      "source": [
        "lon_grid = geemap.longitude_grid(step=5.0, west=-180, east=180, south=-85, north=85)"
      ]
    },
    {
      "cell_type": "code",
      "execution_count": null,
      "id": "152",
      "metadata": {
        "id": "152"
      },
      "outputs": [],
      "source": [
        "m = geemap.Map()\n",
        "style = {\"fillColor\": \"00000000\"}\n",
        "m.add_layer(lon_grid.style(**style), {}, \"Longitude Grid\")\n",
        "m"
      ]
    },
    {
      "cell_type": "markdown",
      "id": "153",
      "metadata": {
        "id": "153"
      },
      "source": [
        "Create a rectangular grid with a 10-degree interval."
      ]
    },
    {
      "cell_type": "code",
      "execution_count": null,
      "id": "154",
      "metadata": {
        "id": "154"
      },
      "outputs": [],
      "source": [
        "grid = geemap.latlon_grid(\n",
        "    lat_step=10, lon_step=10, west=-180, east=180, south=-85, north=85\n",
        ")"
      ]
    },
    {
      "cell_type": "code",
      "execution_count": null,
      "id": "155",
      "metadata": {
        "id": "155"
      },
      "outputs": [],
      "source": [
        "m = geemap.Map()\n",
        "style = {\"fillColor\": \"00000000\"}\n",
        "m.add_layer(grid.style(**style), {}, \"Coordinate Grid\")\n",
        "m"
      ]
    },
    {
      "cell_type": "markdown",
      "id": "156",
      "metadata": {
        "id": "156"
      },
      "source": [
        "#### Creating fishnets\n",
        "\n",
        "Create a fishnet based on an Earth Engine geometry."
      ]
    },
    {
      "cell_type": "code",
      "execution_count": null,
      "id": "157",
      "metadata": {
        "id": "157"
      },
      "outputs": [],
      "source": [
        "m = geemap.Map()\n",
        "m"
      ]
    },
    {
      "cell_type": "markdown",
      "id": "158",
      "metadata": {
        "id": "158"
      },
      "source": [
        "Use the drawing tools to draw a polygon on the map above. If no polygon is drawn, the default polygon will be used."
      ]
    },
    {
      "cell_type": "code",
      "execution_count": null,
      "id": "159",
      "metadata": {
        "id": "159"
      },
      "outputs": [],
      "source": [
        "roi = m.user_roi\n",
        "\n",
        "if roi is None:\n",
        "    roi = ee.Geometry.BBox(-112.8089, 33.7306, -88.5951, 46.6244)\n",
        "    m.add_layer(roi, {}, \"ROI\")\n",
        "\n",
        "m.center_object(roi)"
      ]
    },
    {
      "cell_type": "markdown",
      "id": "160",
      "metadata": {
        "id": "160"
      },
      "source": [
        "Create a fishnet based on a user-drawn polygon with a 2-degree interval."
      ]
    },
    {
      "cell_type": "code",
      "execution_count": null,
      "id": "161",
      "metadata": {
        "id": "161"
      },
      "outputs": [],
      "source": [
        "fishnet = geemap.fishnet(roi, h_interval=2.0, v_interval=2.0, delta=1)\n",
        "style = {\"color\": \"blue\", \"fillColor\": \"00000000\"}\n",
        "m.add_layer(fishnet.style(**style), {}, \"Fishnet\")"
      ]
    },
    {
      "cell_type": "markdown",
      "id": "162",
      "metadata": {
        "id": "162"
      },
      "source": [
        "Create a new map."
      ]
    },
    {
      "cell_type": "code",
      "execution_count": null,
      "id": "163",
      "metadata": {
        "id": "163"
      },
      "outputs": [],
      "source": [
        "m = geemap.Map()\n",
        "m"
      ]
    },
    {
      "cell_type": "markdown",
      "id": "164",
      "metadata": {
        "id": "164"
      },
      "source": [
        "Draw a polygon on the map."
      ]
    },
    {
      "cell_type": "code",
      "execution_count": null,
      "id": "165",
      "metadata": {
        "id": "165"
      },
      "outputs": [],
      "source": [
        "roi = m.user_roi\n",
        "\n",
        "if roi is None:\n",
        "    roi = ee.Geometry.Polygon(\n",
        "        [\n",
        "            [\n",
        "                [-64.602356, -1.127399],\n",
        "                [-68.821106, -12.625598],\n",
        "                [-60.647278, -22.498601],\n",
        "                [-47.815247, -21.111406],\n",
        "                [-43.860168, -8.913564],\n",
        "                [-54.582825, -0.775886],\n",
        "                [-60.823059, 0.454555],\n",
        "                [-64.602356, -1.127399],\n",
        "            ]\n",
        "        ]\n",
        "    )\n",
        "    m.add_layer(roi, {}, \"ROI\")\n",
        "\n",
        "m.center_object(roi)\n",
        "m"
      ]
    },
    {
      "cell_type": "markdown",
      "id": "166",
      "metadata": {
        "id": "166"
      },
      "source": [
        "Create a fishnet based on a user-drawn polygon with specified number of rows and columns."
      ]
    },
    {
      "cell_type": "code",
      "execution_count": null,
      "id": "167",
      "metadata": {
        "id": "167"
      },
      "outputs": [],
      "source": [
        "fishnet = geemap.fishnet(roi, rows=6, cols=8, delta=1)\n",
        "style = {\"color\": \"blue\", \"fillColor\": \"00000000\"}\n",
        "m.add_layer(fishnet.style(**style), {}, \"Fishnet\")"
      ]
    },
    {
      "cell_type": "markdown",
      "id": "168",
      "metadata": {
        "id": "168"
      },
      "source": [
        "### Land use and land cover change analysis\n",
        "\n",
        "#### Forest cover mapping\n",
        "\n",
        "We will use the [Hansen Global Forest Change v1.10 (2000-2022) dataset](https://developers.google.com/earth-engine/datasets/catalog/UMD_hansen_global_forest_change_2022_v1_10)."
      ]
    },
    {
      "cell_type": "code",
      "execution_count": null,
      "id": "169",
      "metadata": {
        "id": "169"
      },
      "outputs": [],
      "source": [
        "dataset = ee.Image(\"UMD/hansen/global_forest_change_2022_v1_10\")\n",
        "dataset.bandNames()"
      ]
    },
    {
      "cell_type": "markdown",
      "id": "170",
      "metadata": {
        "id": "170"
      },
      "source": [
        "Select the imagery for 2000."
      ]
    },
    {
      "cell_type": "code",
      "execution_count": null,
      "id": "171",
      "metadata": {
        "id": "171"
      },
      "outputs": [],
      "source": [
        "m = geemap.Map()\n",
        "first_bands = [\"first_b50\", \"first_b40\", \"first_b30\"]\n",
        "first_image = dataset.select(first_bands)\n",
        "m.add_layer(first_image, {\"bands\": first_bands, \"gamma\": 1.5}, \"Landsat 2000\")"
      ]
    },
    {
      "cell_type": "markdown",
      "id": "172",
      "metadata": {
        "id": "172"
      },
      "source": [
        "Select the imagery for 2022."
      ]
    },
    {
      "cell_type": "code",
      "execution_count": null,
      "id": "173",
      "metadata": {
        "id": "173"
      },
      "outputs": [],
      "source": [
        "last_bands = [\"last_b50\", \"last_b40\", \"last_b30\"]\n",
        "last_image = dataset.select(last_bands)\n",
        "m.add_layer(last_image, {\"bands\": last_bands, \"gamma\": 1.5}, \"Landsat 2022\")"
      ]
    },
    {
      "cell_type": "markdown",
      "id": "174",
      "metadata": {
        "id": "174"
      },
      "source": [
        "Select the tree cover imagery for 2000."
      ]
    },
    {
      "cell_type": "code",
      "execution_count": null,
      "id": "175",
      "metadata": {
        "id": "175"
      },
      "outputs": [],
      "source": [
        "treecover = dataset.select([\"treecover2000\"])\n",
        "treeCoverVisParam = {\"min\": 0, \"max\": 100, \"palette\": [\"black\", \"green\"]}\n",
        "name = \"Tree cover (%)\"\n",
        "m.add_layer(treecover, treeCoverVisParam, name)\n",
        "m.add_colorbar(treeCoverVisParam, label=name, layer_name=name)\n",
        "m.add(\"layer_manager\")\n",
        "m"
      ]
    },
    {
      "cell_type": "markdown",
      "id": "176",
      "metadata": {
        "id": "176"
      },
      "source": [
        "Extract tree cover 2000 by using the threshold of 10%."
      ]
    },
    {
      "cell_type": "code",
      "execution_count": null,
      "id": "177",
      "metadata": {
        "id": "177"
      },
      "outputs": [],
      "source": [
        "threshold = 10\n",
        "treecover_bin = treecover.gte(threshold).selfMask()\n",
        "treeVisParam = {\"palette\": [\"green\"]}\n",
        "m.add_layer(treecover_bin, treeVisParam, \"Tree cover bin\")"
      ]
    },
    {
      "cell_type": "markdown",
      "id": "178",
      "metadata": {
        "id": "178"
      },
      "source": [
        "#### Forest loss and gain mapping\n",
        "\n",
        "Visualize forest loss."
      ]
    },
    {
      "cell_type": "code",
      "execution_count": null,
      "id": "179",
      "metadata": {
        "id": "179"
      },
      "outputs": [],
      "source": [
        "m = geemap.Map()\n",
        "m.add_basemap(\"Esri.WorldImagery\")\n",
        "treeloss_year = dataset.select([\"lossyear\"])\n",
        "treeLossVisParam = {\"min\": 0, \"max\": 22, \"palette\": [\"yellow\", \"red\"]}\n",
        "layer_name = \"Tree loss year\"\n",
        "m.add_layer(treeloss_year, treeLossVisParam, layer_name)\n",
        "m.add_colorbar(treeLossVisParam, label=layer_name, layer_name=layer_name)\n",
        "m.add(\"layer_manager\")\n",
        "m"
      ]
    },
    {
      "cell_type": "markdown",
      "id": "180",
      "metadata": {
        "id": "180"
      },
      "source": [
        "Compare forest loss and gain."
      ]
    },
    {
      "cell_type": "code",
      "execution_count": null,
      "id": "181",
      "metadata": {
        "id": "181"
      },
      "outputs": [],
      "source": [
        "m = geemap.Map()\n",
        "m.add_basemap(\"Esri.WorldImagery\")\n",
        "treeloss = dataset.select([\"loss\"]).selfMask()\n",
        "treegain = dataset.select([\"gain\"]).selfMask()\n",
        "m.add_layer(treeloss, {\"palette\": \"red\"}, \"Tree loss\")\n",
        "m.add_layer(treegain, {\"palette\": \"yellow\"}, \"Tree gain\")\n",
        "m.add(\"layer_manager\")\n",
        "m"
      ]
    },
    {
      "cell_type": "markdown",
      "id": "182",
      "metadata": {
        "id": "182"
      },
      "source": [
        "#### Zonal statistics by country\n",
        "\n",
        "Compute zonal statistics to find out which country has the largest forest area in 2000.\n",
        "\n",
        "Add a country boundary layer to the map."
      ]
    },
    {
      "cell_type": "code",
      "execution_count": null,
      "id": "183",
      "metadata": {
        "id": "183"
      },
      "outputs": [],
      "source": [
        "m = geemap.Map()\n",
        "countries = ee.FeatureCollection(geemap.examples.get_ee_path(\"countries\"))\n",
        "style = {\"color\": \"#000000ff\", \"fillColor\": \"#00000000\"}\n",
        "m.add_layer(countries.style(**style), {}, \"Countries\")\n",
        "m"
      ]
    },
    {
      "cell_type": "markdown",
      "id": "184",
      "metadata": {
        "id": "184"
      },
      "source": [
        "Compute zonal statistics by country."
      ]
    },
    {
      "cell_type": "code",
      "execution_count": null,
      "id": "185",
      "metadata": {
        "id": "185"
      },
      "outputs": [],
      "source": [
        "geemap.zonal_stats(\n",
        "    treecover_bin,\n",
        "    countries,\n",
        "    \"forest_cover.csv\",\n",
        "    stat_type=\"SUM\",\n",
        "    denominator=1e6,\n",
        "    scale=1000,\n",
        ")"
      ]
    },
    {
      "cell_type": "markdown",
      "id": "186",
      "metadata": {
        "id": "186"
      },
      "source": [
        "Create a pie chart to visualize the forest area by country."
      ]
    },
    {
      "cell_type": "code",
      "execution_count": null,
      "id": "187",
      "metadata": {
        "id": "187"
      },
      "outputs": [],
      "source": [
        "geemap.pie_chart(\n",
        "    \"forest_cover.csv\", names=\"NAME\", values=\"sum\", max_rows=20, height=400\n",
        ")"
      ]
    },
    {
      "cell_type": "markdown",
      "id": "188",
      "metadata": {
        "id": "188"
      },
      "source": [
        "Create a bar chart to visualize the forest area by country."
      ]
    },
    {
      "cell_type": "code",
      "execution_count": null,
      "id": "189",
      "metadata": {
        "id": "189"
      },
      "outputs": [],
      "source": [
        "geemap.bar_chart(\n",
        "    \"forest_cover.csv\",\n",
        "    x=\"NAME\",\n",
        "    y=\"sum\",\n",
        "    max_rows=20,\n",
        "    x_label=\"Country\",\n",
        "    y_label=\"Forest area (km2)\",\n",
        ")"
      ]
    },
    {
      "cell_type": "markdown",
      "id": "190",
      "metadata": {
        "id": "190"
      },
      "source": [
        "Calculate the forest loss area by country."
      ]
    },
    {
      "cell_type": "code",
      "execution_count": null,
      "id": "191",
      "metadata": {
        "id": "191"
      },
      "outputs": [],
      "source": [
        "geemap.zonal_stats(\n",
        "    treeloss.gt(0),\n",
        "    countries,\n",
        "    \"treeloss.csv\",\n",
        "    stat_type=\"SUM\",\n",
        "    denominator=1e6,\n",
        "    scale=1000,\n",
        ")"
      ]
    },
    {
      "cell_type": "markdown",
      "id": "192",
      "metadata": {
        "id": "192"
      },
      "source": [
        "Create a bar chart to visualize the forest loss area by country."
      ]
    },
    {
      "cell_type": "code",
      "execution_count": null,
      "id": "193",
      "metadata": {
        "id": "193"
      },
      "outputs": [],
      "source": [
        "geemap.pie_chart(\"treeloss.csv\", names=\"NAME\", values=\"sum\", max_rows=20, height=600)"
      ]
    },
    {
      "cell_type": "markdown",
      "id": "194",
      "metadata": {
        "id": "194"
      },
      "source": [
        "Create a bar chart to visualize the forest loss area by country."
      ]
    },
    {
      "cell_type": "code",
      "execution_count": null,
      "id": "195",
      "metadata": {
        "id": "195"
      },
      "outputs": [],
      "source": [
        "geemap.bar_chart(\n",
        "    \"treeloss.csv\",\n",
        "    x=\"NAME\",\n",
        "    y=\"sum\",\n",
        "    max_rows=20,\n",
        "    x_label=\"Country\",\n",
        "    y_label=\"Forest loss area (km2)\",\n",
        ")"
      ]
    },
    {
      "cell_type": "markdown",
      "id": "196",
      "metadata": {
        "id": "196"
      },
      "source": [
        "### Exercise 4 - Analyzing forest cover gain and loss\n",
        "\n",
        "Find out which US state has the largest forest gain and loss between 2000 and 2022. Create pie charts and bar charts to show the results. Relevant Earth Engine assets:\n",
        "\n",
        "-   [ee.FeatureCollection(\"TIGER/2018/States\")](https://developers.google.com/earth-engine/datasets/catalog/TIGER_2018_States)\n",
        "-   [ee.Image(\"UMD/hansen/global_forest_change_2022_v1_10\")](https://developers.google.com/earth-engine/datasets/catalog/UMD_hansen_global_forest_change_2022_v1_10)\n",
        "\n",
        "![](https://i.imgur.com/NQ4UUnj.png)"
      ]
    },
    {
      "cell_type": "code",
      "execution_count": null,
      "id": "197",
      "metadata": {
        "id": "197"
      },
      "outputs": [],
      "source": []
    },
    {
      "cell_type": "markdown",
      "id": "198",
      "metadata": {
        "id": "198"
      },
      "source": [
        "## Break 2 (10 mins)\n",
        "\n",
        "## Exporting Earth Engine data (30 mins)\n",
        "\n",
        "### Exporting images\n",
        "\n",
        "Add a Landsat image to the map."
      ]
    },
    {
      "cell_type": "code",
      "execution_count": null,
      "id": "199",
      "metadata": {
        "id": "199"
      },
      "outputs": [],
      "source": [
        "m = geemap.Map()\n",
        "\n",
        "image = ee.Image(\"LANDSAT/LC08/C02/T1_TOA/LC08_044034_20140318\").select(\n",
        "    [\"B5\", \"B4\", \"B3\"]\n",
        ")\n",
        "\n",
        "vis_params = {\"min\": 0, \"max\": 0.5, \"gamma\": [0.95, 1.1, 1]}\n",
        "\n",
        "m.center_object(image)\n",
        "m.add_layer(image, vis_params, \"Landsat\")\n",
        "m"
      ]
    },
    {
      "cell_type": "markdown",
      "id": "200",
      "metadata": {
        "id": "200"
      },
      "source": [
        "Add a rectangle to the map."
      ]
    },
    {
      "cell_type": "code",
      "execution_count": null,
      "id": "201",
      "metadata": {
        "id": "201"
      },
      "outputs": [],
      "source": [
        "region = ee.Geometry.BBox(-122.5955, 37.5339, -122.0982, 37.8252)\n",
        "fc = ee.FeatureCollection(region)\n",
        "style = {\"color\": \"ffff00ff\", \"fillColor\": \"00000000\"}\n",
        "m.add_layer(fc.style(**style), {}, \"ROI\")"
      ]
    },
    {
      "cell_type": "markdown",
      "id": "202",
      "metadata": {
        "id": "202"
      },
      "source": [
        "To local drive"
      ]
    },
    {
      "cell_type": "code",
      "execution_count": null,
      "id": "203",
      "metadata": {
        "id": "203"
      },
      "outputs": [],
      "source": [
        "geemap.ee_export_image(image, filename=\"landsat.tif\", scale=30, region=region)"
      ]
    },
    {
      "cell_type": "markdown",
      "id": "204",
      "metadata": {
        "id": "204"
      },
      "source": [
        "Check image projection."
      ]
    },
    {
      "cell_type": "code",
      "execution_count": null,
      "id": "205",
      "metadata": {
        "id": "205"
      },
      "outputs": [],
      "source": [
        "projection = image.select(0).projection().getInfo()\n",
        "projection"
      ]
    },
    {
      "cell_type": "code",
      "execution_count": null,
      "id": "206",
      "metadata": {
        "id": "206"
      },
      "outputs": [],
      "source": [
        "crs = projection[\"crs\"]\n",
        "crs_transform = projection[\"transform\"]"
      ]
    },
    {
      "cell_type": "markdown",
      "id": "207",
      "metadata": {
        "id": "207"
      },
      "source": [
        "Specify region, crs, and crs_transform."
      ]
    },
    {
      "cell_type": "code",
      "execution_count": null,
      "id": "208",
      "metadata": {
        "id": "208"
      },
      "outputs": [],
      "source": [
        "geemap.ee_export_image(\n",
        "    image,\n",
        "    filename=\"landsat_crs.tif\",\n",
        "    crs=crs,\n",
        "    crs_transform=crs_transform,\n",
        "    region=region,\n",
        ")"
      ]
    },
    {
      "cell_type": "markdown",
      "id": "209",
      "metadata": {
        "id": "209"
      },
      "source": [
        "To Google Drive"
      ]
    },
    {
      "cell_type": "code",
      "execution_count": null,
      "id": "210",
      "metadata": {
        "id": "210"
      },
      "outputs": [],
      "source": [
        "geemap.ee_export_image_to_drive(\n",
        "    image, description=\"landsat\", folder=\"export\", region=region, scale=30\n",
        ")"
      ]
    },
    {
      "cell_type": "markdown",
      "id": "211",
      "metadata": {
        "id": "211"
      },
      "source": [
        "### Exporting image collections"
      ]
    },
    {
      "cell_type": "code",
      "execution_count": null,
      "id": "212",
      "metadata": {
        "id": "212"
      },
      "outputs": [],
      "source": [
        "point = ee.Geometry.Point(-99.2222, 46.7816)\n",
        "collection = (\n",
        "    ee.ImageCollection(\"USDA/NAIP/DOQQ\")\n",
        "    .filterBounds(point)\n",
        "    .filterDate(\"2008-01-01\", \"2018-01-01\")\n",
        "    .filter(ee.Filter.listContains(\"system:band_names\", \"N\"))\n",
        ")"
      ]
    },
    {
      "cell_type": "code",
      "execution_count": null,
      "id": "213",
      "metadata": {
        "id": "213"
      },
      "outputs": [],
      "source": [
        "collection.aggregate_array(\"system:index\")"
      ]
    },
    {
      "cell_type": "markdown",
      "id": "214",
      "metadata": {
        "id": "214"
      },
      "source": [
        "To local drive"
      ]
    },
    {
      "cell_type": "code",
      "execution_count": null,
      "id": "215",
      "metadata": {
        "id": "215"
      },
      "outputs": [],
      "source": [
        "geemap.ee_export_image_collection(collection, out_dir=\".\", scale=10)"
      ]
    },
    {
      "cell_type": "markdown",
      "id": "216",
      "metadata": {
        "id": "216"
      },
      "source": [
        "To Google Drive"
      ]
    },
    {
      "cell_type": "code",
      "execution_count": null,
      "id": "217",
      "metadata": {
        "id": "217"
      },
      "outputs": [],
      "source": [
        "geemap.ee_export_image_collection_to_drive(collection, folder=\"export\", scale=10)"
      ]
    },
    {
      "cell_type": "markdown",
      "id": "218",
      "metadata": {
        "id": "218"
      },
      "source": [
        "### Exporting feature collections"
      ]
    },
    {
      "cell_type": "code",
      "execution_count": null,
      "id": "219",
      "metadata": {
        "id": "219"
      },
      "outputs": [],
      "source": [
        "m = geemap.Map()\n",
        "fc = ee.FeatureCollection(\"USDOS/LSIB_SIMPLE/2017\").filter(\n",
        "    ee.Filter.eq(\"country_na\", \"Germany\")\n",
        ")\n",
        "m.add_layer(fc, {}, \"Germany\")\n",
        "m.center_object(fc)\n",
        "m"
      ]
    },
    {
      "cell_type": "markdown",
      "id": "220",
      "metadata": {
        "id": "220"
      },
      "source": [
        "To local drive"
      ]
    },
    {
      "cell_type": "code",
      "execution_count": null,
      "id": "221",
      "metadata": {
        "id": "221"
      },
      "outputs": [],
      "source": [
        "geemap.ee_to_shp(fc, filename=\"Germany.shp\", selectors=None)"
      ]
    },
    {
      "cell_type": "code",
      "execution_count": null,
      "id": "222",
      "metadata": {
        "id": "222"
      },
      "outputs": [],
      "source": [
        "geemap.ee_export_vector(fc, filename=\"Germany2.shp\")"
      ]
    },
    {
      "cell_type": "code",
      "execution_count": null,
      "id": "223",
      "metadata": {
        "id": "223"
      },
      "outputs": [],
      "source": [
        "geemap.ee_to_geojson(fc, filename=\"Germany.geojson\")"
      ]
    },
    {
      "cell_type": "code",
      "execution_count": null,
      "id": "224",
      "metadata": {
        "id": "224"
      },
      "outputs": [],
      "source": [
        "geemap.ee_to_csv(fc, filename=\"Germany.csv\")"
      ]
    },
    {
      "cell_type": "code",
      "execution_count": null,
      "id": "225",
      "metadata": {
        "id": "225"
      },
      "outputs": [],
      "source": [
        "gdf = geemap.ee_to_gdf(fc)\n",
        "gdf"
      ]
    },
    {
      "cell_type": "code",
      "execution_count": null,
      "id": "226",
      "metadata": {
        "id": "226"
      },
      "outputs": [],
      "source": [
        "df = geemap.ee_to_df(fc)\n",
        "df"
      ]
    },
    {
      "cell_type": "markdown",
      "id": "227",
      "metadata": {
        "id": "227"
      },
      "source": [
        "To Google Drive"
      ]
    },
    {
      "cell_type": "code",
      "execution_count": null,
      "id": "228",
      "metadata": {
        "id": "228"
      },
      "outputs": [],
      "source": [
        "geemap.ee_export_vector_to_drive(\n",
        "    fc, description=\"germany\", fileFormat=\"SHP\", folder=\"export\"\n",
        ")"
      ]
    },
    {
      "cell_type": "markdown",
      "id": "229",
      "metadata": {
        "id": "229"
      },
      "source": [
        "### Exercise 5 - Exporting images by a fishnet\n",
        "\n",
        "Create a fishnet with a 4-degree interval based on the extent of `[-112.5439, 34.0891, -85.0342, 49.6858]`. Use the fishnet to download the Landsat 7 image tiles by the fishnet using the `geemap.download_ee_image_tiles()` and `geemap.download_ee_image_tiles_parallel()` functions. Relevant Earth Engine assets:\n",
        "\n",
        "-   `ee.Image('LANDSAT/LE7_TOA_5YEAR/1999_2003')`\n",
        "\n",
        "![](https://i.imgur.com/L1IH3fq.png)"
      ]
    },
    {
      "cell_type": "code",
      "execution_count": null,
      "id": "230",
      "metadata": {
        "id": "230"
      },
      "outputs": [],
      "source": [
        "m = geemap.Map(center=[40, -100], zoom=4)\n",
        "image = ee.Image(\"LANDSAT/LE7_TOA_5YEAR/1999_2003\").select([\"B4\", \"B3\", \"B2\"])\n",
        "m.add_layer(image, {\"min\": 20, \"max\": 200, \"gamma\": 2.0}, \"Landsat\")\n",
        "region = ee.Geometry.BBox(-112.5439, 34.0891, -85.0342, 49.6858)\n",
        "m.add_layer(region, {}, \"ROI\")\n",
        "m.center_object(region)\n",
        "m"
      ]
    },
    {
      "cell_type": "code",
      "execution_count": null,
      "id": "231",
      "metadata": {
        "id": "231"
      },
      "outputs": [],
      "source": []
    },
    {
      "cell_type": "markdown",
      "id": "232",
      "metadata": {
        "id": "232"
      },
      "source": [
        "## Creating satellite timelapse animations (30 mins)\n",
        "\n",
        "### Creating satellite timeseries\n",
        "\n",
        "Use the [Harmonized Sentinel-2 MSI](https://developers.google.com/earth-engine/datasets/catalog/COPERNICUS_S2_HARMONIZED) dataset to create a timeseries for a given location."
      ]
    },
    {
      "cell_type": "code",
      "execution_count": null,
      "id": "233",
      "metadata": {
        "id": "233"
      },
      "outputs": [],
      "source": [
        "collection = ee.ImageCollection(\"COPERNICUS/S2_HARMONIZED\").filterMetadata(\n",
        "    \"CLOUDY_PIXEL_PERCENTAGE\", \"less_than\", 10\n",
        ")"
      ]
    },
    {
      "cell_type": "markdown",
      "id": "234",
      "metadata": {
        "id": "234"
      },
      "source": [
        "Specify the location of interest and date range."
      ]
    },
    {
      "cell_type": "code",
      "execution_count": null,
      "id": "235",
      "metadata": {
        "id": "235"
      },
      "outputs": [],
      "source": [
        "start_date = \"2016-01-01\"\n",
        "end_date = \"2022-12-31\"\n",
        "region = ee.Geometry.BBox(-122.5549, 37.6968, -122.3446, 37.8111)"
      ]
    },
    {
      "cell_type": "markdown",
      "id": "236",
      "metadata": {
        "id": "236"
      },
      "source": [
        "Create an annual composite."
      ]
    },
    {
      "cell_type": "code",
      "execution_count": null,
      "id": "237",
      "metadata": {
        "id": "237"
      },
      "outputs": [],
      "source": [
        "images = geemap.create_timeseries(\n",
        "    collection, start_date, end_date, region, frequency=\"year\", reducer=\"median\"\n",
        ")\n",
        "images"
      ]
    },
    {
      "cell_type": "markdown",
      "id": "238",
      "metadata": {
        "id": "238"
      },
      "source": [
        "Display the timeseries."
      ]
    },
    {
      "cell_type": "code",
      "execution_count": null,
      "id": "239",
      "metadata": {
        "id": "239"
      },
      "outputs": [],
      "source": [
        "m = geemap.Map()\n",
        "vis_params = {\"min\": 0, \"max\": 4000, \"bands\": [\"B8\", \"B4\", \"B3\"]}\n",
        "labels = [str(y) for y in range(2016, 2023)]\n",
        "m.add_layer(images, vis_params, \"Sentinel-2\", False)\n",
        "m.add_time_slider(images, vis_params, time_interval=2, labels=labels)\n",
        "m.center_object(region)\n",
        "m"
      ]
    },
    {
      "cell_type": "markdown",
      "id": "240",
      "metadata": {
        "id": "240"
      },
      "source": [
        "### Creating satellite timelapse animations\n",
        "\n",
        "#### NAIP timelapse"
      ]
    },
    {
      "cell_type": "code",
      "execution_count": null,
      "id": "241",
      "metadata": {
        "id": "241"
      },
      "outputs": [],
      "source": [
        "m = geemap.Map(center=[40, -100], zoom=4)\n",
        "m"
      ]
    },
    {
      "cell_type": "code",
      "execution_count": null,
      "id": "242",
      "metadata": {
        "id": "242"
      },
      "outputs": [],
      "source": [
        "roi = m.user_roi\n",
        "if roi is None:\n",
        "    roi = ee.Geometry.BBox(-99.1019, 47.1274, -99.0334, 47.1562)\n",
        "    m.add_layer(roi, {}, \"ROI\")\n",
        "    m.center_object(roi)"
      ]
    },
    {
      "cell_type": "code",
      "execution_count": null,
      "id": "243",
      "metadata": {
        "id": "243"
      },
      "outputs": [],
      "source": [
        "collection = geemap.naip_timeseries(roi, start_year=2009, end_year=2022, RGBN=True)"
      ]
    },
    {
      "cell_type": "code",
      "execution_count": null,
      "id": "244",
      "metadata": {
        "id": "244"
      },
      "outputs": [],
      "source": [
        "years = geemap.image_dates(collection, date_format=\"YYYY\").getInfo()\n",
        "print(years)"
      ]
    },
    {
      "cell_type": "code",
      "execution_count": null,
      "id": "245",
      "metadata": {
        "id": "245"
      },
      "outputs": [],
      "source": [
        "size = len(years)\n",
        "images = collection.toList(size)\n",
        "for i in range(size):\n",
        "    image = ee.Image(images.get(i))\n",
        "    m.add_layer(image, {\"bands\": [\"N\", \"R\", \"G\"]}, years[i])\n",
        "m"
      ]
    },
    {
      "cell_type": "code",
      "execution_count": null,
      "id": "246",
      "metadata": {
        "id": "246"
      },
      "outputs": [],
      "source": [
        "timelapse = geemap.naip_timelapse(\n",
        "    roi,\n",
        "    out_gif=\"naip.gif\",\n",
        "    bands=[\"N\", \"R\", \"G\"],\n",
        "    frames_per_second=3,\n",
        "    title=\"NAIP Timelapse\",\n",
        ")\n",
        "geemap.show_image(timelapse)"
      ]
    },
    {
      "cell_type": "markdown",
      "id": "247",
      "metadata": {
        "id": "247"
      },
      "source": [
        "#### Landsat timelapse"
      ]
    },
    {
      "cell_type": "code",
      "execution_count": null,
      "id": "248",
      "metadata": {
        "id": "248"
      },
      "outputs": [],
      "source": [
        "m = geemap.Map()\n",
        "m"
      ]
    },
    {
      "cell_type": "markdown",
      "id": "249",
      "metadata": {
        "id": "249"
      },
      "source": [
        "Pan and zoom the map to an area of interest. Use the drawing tools to draw a rectangle on the map. If no rectangle is drawn, the default rectangle shown below will be used."
      ]
    },
    {
      "cell_type": "code",
      "execution_count": null,
      "id": "250",
      "metadata": {
        "id": "250"
      },
      "outputs": [],
      "source": [
        "roi = m.user_roi\n",
        "if roi is None:\n",
        "    roi = ee.Geometry.BBox(-74.7222, -8.5867, -74.1596, -8.2824)\n",
        "    m.add_layer(roi)\n",
        "    m.center_object(roi)"
      ]
    },
    {
      "cell_type": "code",
      "execution_count": null,
      "id": "251",
      "metadata": {
        "id": "251"
      },
      "outputs": [],
      "source": [
        "timelapse = geemap.landsat_timelapse(\n",
        "    roi,\n",
        "    out_gif=\"landsat.gif\",\n",
        "    start_year=1984,\n",
        "    end_year=2022,\n",
        "    start_date=\"01-01\",\n",
        "    end_date=\"12-31\",\n",
        "    bands=[\"SWIR1\", \"NIR\", \"Red\"],\n",
        "    frames_per_second=5,\n",
        "    title=\"Landsat Timelapse\",\n",
        "    progress_bar_color=\"blue\",\n",
        "    mp4=True,\n",
        ")\n",
        "geemap.show_image(timelapse)"
      ]
    },
    {
      "cell_type": "code",
      "execution_count": null,
      "id": "252",
      "metadata": {
        "id": "252"
      },
      "outputs": [],
      "source": [
        "m = geemap.Map()\n",
        "roi = ee.Geometry.BBox(-115.5541, 35.8044, -113.9035, 36.5581)\n",
        "m.add_layer(roi)\n",
        "m.center_object(roi)\n",
        "m"
      ]
    },
    {
      "cell_type": "code",
      "execution_count": null,
      "id": "253",
      "metadata": {
        "id": "253"
      },
      "outputs": [],
      "source": [
        "timelapse = geemap.landsat_timelapse(\n",
        "    roi,\n",
        "    out_gif=\"las_vegas.gif\",\n",
        "    start_year=1984,\n",
        "    end_year=2022,\n",
        "    bands=[\"NIR\", \"Red\", \"Green\"],\n",
        "    frames_per_second=5,\n",
        "    title=\"Las Vegas, NV\",\n",
        "    font_color=\"blue\",\n",
        ")\n",
        "geemap.show_image(timelapse)"
      ]
    },
    {
      "cell_type": "code",
      "execution_count": null,
      "id": "254",
      "metadata": {
        "id": "254"
      },
      "outputs": [],
      "source": [
        "m = geemap.Map()\n",
        "roi = ee.Geometry.BBox(113.8252, 22.1988, 114.0851, 22.3497)\n",
        "m.add_layer(roi)\n",
        "m.center_object(roi)\n",
        "m"
      ]
    },
    {
      "cell_type": "code",
      "execution_count": null,
      "id": "255",
      "metadata": {
        "id": "255"
      },
      "outputs": [],
      "source": [
        "timelapse = geemap.landsat_timelapse(\n",
        "    roi,\n",
        "    out_gif=\"hong_kong.gif\",\n",
        "    start_year=1990,\n",
        "    end_year=2022,\n",
        "    start_date=\"01-01\",\n",
        "    end_date=\"12-31\",\n",
        "    bands=[\"SWIR1\", \"NIR\", \"Red\"],\n",
        "    frames_per_second=3,\n",
        "    title=\"Hong Kong\",\n",
        ")\n",
        "geemap.show_image(timelapse)"
      ]
    },
    {
      "cell_type": "markdown",
      "id": "256",
      "metadata": {
        "id": "256"
      },
      "source": [
        "#### Sentinel-2 timelapse"
      ]
    },
    {
      "cell_type": "code",
      "execution_count": null,
      "id": "257",
      "metadata": {
        "id": "257"
      },
      "outputs": [],
      "source": [
        "m = geemap.Map()\n",
        "m"
      ]
    },
    {
      "cell_type": "markdown",
      "id": "258",
      "metadata": {
        "id": "258"
      },
      "source": [
        "Pan and zoom the map to an area of interest. Use the drawing tools to draw a rectangle on the map. If no rectangle is drawn, the default rectangle shown below will be used."
      ]
    },
    {
      "cell_type": "code",
      "execution_count": null,
      "id": "259",
      "metadata": {
        "id": "259"
      },
      "outputs": [],
      "source": [
        "roi = m.user_roi\n",
        "if roi is None:\n",
        "    roi = ee.Geometry.BBox(-74.7222, -8.5867, -74.1596, -8.2824)\n",
        "    m.add_layer(roi)\n",
        "    m.center_object(roi)"
      ]
    },
    {
      "cell_type": "code",
      "execution_count": null,
      "id": "260",
      "metadata": {
        "id": "260"
      },
      "outputs": [],
      "source": [
        "timelapse = geemap.sentinel2_timelapse(\n",
        "    roi,\n",
        "    out_gif=\"sentinel2.gif\",\n",
        "    start_year=2016,\n",
        "    end_year=2021,\n",
        "    start_date=\"01-01\",\n",
        "    end_date=\"12-31\",\n",
        "    frequency=\"year\",\n",
        "    bands=[\"SWIR1\", \"NIR\", \"Red\"],\n",
        "    frames_per_second=3,\n",
        "    title=\"Sentinel-2 Timelapse\",\n",
        ")\n",
        "geemap.show_image(timelapse)"
      ]
    },
    {
      "cell_type": "markdown",
      "id": "261",
      "metadata": {
        "id": "261"
      },
      "source": [
        "#### MODIS timelapse\n",
        "\n",
        "MODIS vegetation indices"
      ]
    },
    {
      "cell_type": "code",
      "execution_count": null,
      "id": "262",
      "metadata": {
        "id": "262"
      },
      "outputs": [],
      "source": [
        "m = geemap.Map()\n",
        "m"
      ]
    },
    {
      "cell_type": "code",
      "execution_count": null,
      "id": "263",
      "metadata": {
        "id": "263"
      },
      "outputs": [],
      "source": [
        "roi = m.user_roi\n",
        "if roi is None:\n",
        "    roi = ee.Geometry.BBox(-18.6983, -36.1630, 52.2293, 38.1446)\n",
        "    m.add_layer(roi)\n",
        "    m.center_object(roi)"
      ]
    },
    {
      "cell_type": "code",
      "execution_count": null,
      "id": "264",
      "metadata": {
        "id": "264"
      },
      "outputs": [],
      "source": [
        "timelapse = geemap.modis_ndvi_timelapse(\n",
        "    roi,\n",
        "    out_gif=\"ndvi.gif\",\n",
        "    data=\"Terra\",\n",
        "    band=\"NDVI\",\n",
        "    start_date=\"2000-01-01\",\n",
        "    end_date=\"2022-12-31\",\n",
        "    frames_per_second=3,\n",
        "    title=\"MODIS NDVI Timelapse\",\n",
        "    overlay_data=\"countries\",\n",
        ")\n",
        "geemap.show_image(timelapse)"
      ]
    },
    {
      "cell_type": "markdown",
      "id": "265",
      "metadata": {
        "id": "265"
      },
      "source": [
        "MODIS temperature"
      ]
    },
    {
      "cell_type": "code",
      "execution_count": null,
      "id": "266",
      "metadata": {
        "id": "266"
      },
      "outputs": [],
      "source": [
        "m = geemap.Map()\n",
        "m"
      ]
    },
    {
      "cell_type": "code",
      "execution_count": null,
      "id": "267",
      "metadata": {
        "id": "267"
      },
      "outputs": [],
      "source": [
        "roi = m.user_roi\n",
        "if roi is None:\n",
        "    roi = ee.Geometry.BBox(-171.21, -57.13, 177.53, 79.99)\n",
        "    m.add_layer(roi)\n",
        "    m.center_object(roi)"
      ]
    },
    {
      "cell_type": "code",
      "execution_count": null,
      "id": "268",
      "metadata": {
        "id": "268"
      },
      "outputs": [],
      "source": [
        "timelapse = geemap.modis_ocean_color_timelapse(\n",
        "    satellite=\"Aqua\",\n",
        "    start_date=\"2018-01-01\",\n",
        "    end_date=\"2020-12-31\",\n",
        "    roi=roi,\n",
        "    frequency=\"month\",\n",
        "    out_gif=\"temperature.gif\",\n",
        "    overlay_data=\"continents\",\n",
        "    overlay_color=\"yellow\",\n",
        "    overlay_opacity=0.5,\n",
        ")\n",
        "geemap.show_image(timelapse)"
      ]
    },
    {
      "cell_type": "markdown",
      "id": "269",
      "metadata": {
        "id": "269"
      },
      "source": [
        "#### GOES timelapse"
      ]
    },
    {
      "cell_type": "code",
      "execution_count": null,
      "id": "270",
      "metadata": {
        "id": "270"
      },
      "outputs": [],
      "source": [
        "roi = ee.Geometry.BBox(167.1898, -28.5757, 202.6258, -12.4411)\n",
        "start_date = \"2022-01-15T03:00:00\"\n",
        "end_date = \"2022-01-15T07:00:00\"\n",
        "data = \"GOES-17\"\n",
        "scan = \"full_disk\""
      ]
    },
    {
      "cell_type": "code",
      "execution_count": null,
      "id": "271",
      "metadata": {
        "id": "271"
      },
      "outputs": [],
      "source": [
        "timelapse = geemap.goes_timelapse(\n",
        "    roi, \"goes.gif\", start_date, end_date, data, scan, framesPerSecond=5\n",
        ")\n",
        "geemap.show_image(timelapse)"
      ]
    },
    {
      "cell_type": "code",
      "execution_count": null,
      "id": "272",
      "metadata": {
        "id": "272"
      },
      "outputs": [],
      "source": [
        "roi = ee.Geometry.BBox(-159.5954, 24.5178, -114.2438, 60.4088)\n",
        "start_date = \"2021-10-24T14:00:00\"\n",
        "end_date = \"2021-10-25T01:00:00\"\n",
        "data = \"GOES-17\"\n",
        "scan = \"full_disk\""
      ]
    },
    {
      "cell_type": "code",
      "execution_count": null,
      "id": "273",
      "metadata": {
        "id": "273"
      },
      "outputs": [],
      "source": [
        "timelapse = geemap.goes_timelapse(\n",
        "    roi, \"hurricane.gif\", start_date, end_date, data, scan, framesPerSecond=5\n",
        ")\n",
        "geemap.show_image(timelapse)"
      ]
    },
    {
      "cell_type": "code",
      "execution_count": null,
      "id": "274",
      "metadata": {
        "id": "274"
      },
      "outputs": [],
      "source": [
        "roi = ee.Geometry.BBox(-121.0034, 36.8488, -117.9052, 39.0490)\n",
        "start_date = \"2020-09-05T15:00:00\"\n",
        "end_date = \"2020-09-06T02:00:00\"\n",
        "data = \"GOES-17\"\n",
        "scan = \"full_disk\""
      ]
    },
    {
      "cell_type": "code",
      "execution_count": null,
      "id": "275",
      "metadata": {
        "id": "275"
      },
      "outputs": [],
      "source": [
        "timelapse = geemap.goes_fire_timelapse(\n",
        "    roi, \"fire.gif\", start_date, end_date, data, scan, framesPerSecond=5\n",
        ")\n",
        "geemap.show_image(timelapse)"
      ]
    },
    {
      "cell_type": "markdown",
      "id": "276",
      "metadata": {
        "id": "276"
      },
      "source": [
        "### Exercise 6 - Creating timelapse animations\n",
        "\n",
        "Use the geemap timelapse GUI to create a timelapse animation for any location of your choice. Share the timelapse on social media and use the hashtagd such as #EarthEngine and #geemap. See [this](https://i.imgur.com/YaCHvKC.gif) example.\n",
        "\n",
        "![](https://i.imgur.com/ohrXeFC.png)"
      ]
    },
    {
      "cell_type": "code",
      "execution_count": null,
      "id": "277",
      "metadata": {
        "id": "277"
      },
      "outputs": [],
      "source": [
        "m = geemap.Map()\n",
        "m.add_gui(\"timelapse\")\n",
        "m"
      ]
    },
    {
      "cell_type": "markdown",
      "id": "278",
      "metadata": {
        "id": "278"
      },
      "source": [
        "## Break 3 (10 mins)\n",
        "\n",
        "## Building interactive web apps (30 mins)\n",
        "\n",
        "This section is optional. We might not have enough time to cover this section.\n",
        "\n",
        "Follow the instructions [here](https://huggingface.co/spaces/giswqs/solara-geemap) to build an interactive Earth Engine web app with [Solara](https://github.com/widgetti/solara) and geemap. You need to [sign up](https://huggingface.co/join) for a free Hugging Face account to create the web app. It is free and easy to sign up.\n",
        "\n",
        "### Exercise 7 - Building an interactive web app for visualizing land cover change\n",
        "\n",
        "After following the instructions above, you should have a web app that looks like this:\n",
        "\n",
        "![](https://i.imgur.com/X3ZFyRr.png)\n",
        "\n",
        "The web app URL should look like this: https://giswqs-solara-geemap.hf.space/split-map."
      ]
    },
    {
      "cell_type": "code",
      "execution_count": null,
      "id": "279",
      "metadata": {
        "id": "279"
      },
      "outputs": [],
      "source": []
    }
  ],
  "metadata": {
    "kernelspec": {
      "display_name": "Python 3",
      "language": "python",
      "name": "python3"
    },
    "colab": {
      "provenance": [],
      "include_colab_link": true
    }
  },
  "nbformat": 4,
  "nbformat_minor": 5
}